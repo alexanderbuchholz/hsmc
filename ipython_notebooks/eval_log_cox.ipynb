{
 "cells": [
  {
   "cell_type": "code",
   "execution_count": 20,
   "metadata": {},
   "outputs": [
    {
     "name": "stdout",
     "output_type": "stream",
     "text": [
      "['log_coxsampler_HMC_L_random_ft_adaptive_rep_0_dim_100.p', 'log_coxsampler_HMC_L_random_ft_adaptive_rep_0_dim_1600.p', 'log_coxsampler_HMC_L_random_ft_adaptive_rep_0_dim_400.p', 'log_coxsampler_HMC_L_random_ft_adaptive_rep_0_dim_625.p', 'log_coxsampler_HMC_L_random_ft_adaptive_rep_0_dim_900.p', 'log_coxsampler_HMC_L_random_ft_adaptive_rep_10_dim_100.p', 'log_coxsampler_HMC_L_random_ft_adaptive_rep_10_dim_1600.p', 'log_coxsampler_HMC_L_random_ft_adaptive_rep_10_dim_400.p', 'log_coxsampler_HMC_L_random_ft_adaptive_rep_10_dim_625.p', 'log_coxsampler_HMC_L_random_ft_adaptive_rep_10_dim_900.p', 'log_coxsampler_HMC_L_random_ft_adaptive_rep_11_dim_100.p', 'log_coxsampler_HMC_L_random_ft_adaptive_rep_11_dim_1600.p', 'log_coxsampler_HMC_L_random_ft_adaptive_rep_11_dim_400.p', 'log_coxsampler_HMC_L_random_ours_adaptive_rep_4_dim_1600.p', 'log_coxsampler_HMC_L_random_ours_adaptive_rep_4_dim_400.p', 'log_coxsampler_HMC_L_random_ours_adaptive_rep_4_dim_625.p', 'log_coxsampler_HMC_L_random_ours_adaptive_rep_4_dim_900.p', 'log_coxsampler_HMC_L_random_ours_adaptive_rep_5_dim_100.p', 'log_coxsampler_HMC_L_random_ours_adaptive_rep_5_dim_1600.p', 'log_coxsampler_HMC_L_random_ours_adaptive_rep_5_dim_400.p', 'log_coxsampler_HMC_L_random_ours_adaptive_rep_5_dim_625.p', 'log_coxsampler_HMC_L_random_ours_adaptive_rep_5_dim_900.p', 'log_coxsampler_HMC_L_random_ours_adaptive_rep_6_dim_100.p', 'log_coxsampler_HMC_L_random_ours_adaptive_rep_6_dim_1600.p', 'log_coxsampler_HMC_L_random_ours_adaptive_rep_6_dim_400.p', 'log_coxsampler_HMC_L_random_ours_adaptive_rep_6_dim_625.p', 'log_coxsampler_HMC_L_random_ft_adaptive_rep_7_dim_1600.p', 'log_coxsampler_HMC_L_random_ft_adaptive_rep_7_dim_400.p', 'log_coxsampler_HMC_L_random_ft_adaptive_rep_7_dim_625.p', 'log_coxsampler_HMC_L_random_ft_adaptive_rep_7_dim_900.p', 'log_coxsampler_HMC_L_random_ft_adaptive_rep_8_dim_100.p', 'log_coxsampler_HMC_L_random_ft_adaptive_rep_8_dim_1600.p', 'log_coxsampler_HMC_L_random_ft_adaptive_rep_8_dim_400.p', 'log_coxsampler_HMC_L_random_ft_adaptive_rep_8_dim_625.p', 'log_coxsampler_HMC_L_random_ft_adaptive_rep_8_dim_900.p', 'log_coxsampler_HMC_L_random_ft_adaptive_rep_9_dim_100.p', 'log_coxsampler_HMC_L_random_ft_adaptive_rep_9_dim_1600.p', 'log_coxsampler_HMC_L_random_ft_adaptive_rep_9_dim_400.p', 'log_coxsampler_HMC_L_random_ft_adaptive_rep_9_dim_625.p', 'log_coxsampler_HMC_L_random_ft_adaptive_rep_11_dim_625.p', 'log_coxsampler_HMC_L_random_ft_adaptive_rep_14_dim_100.p', 'log_coxsampler_HMC_L_random_ft_adaptive_rep_16_dim_625.p', 'log_coxsampler_HMC_L_random_ft_adaptive_rep_19_dim_100.p', 'log_coxsampler_HMC_L_random_ft_adaptive_rep_20_dim_900.p', 'log_coxsampler_HMC_L_random_ft_adaptive_rep_23_dim_400.p', 'log_coxsampler_HMC_L_random_ft_adaptive_rep_26_dim_100.p', 'log_coxsampler_HMC_L_random_ft_adaptive_rep_29_dim_100.p', 'log_coxsampler_HMC_L_random_ft_adaptive_rep_30_dim_625.p', 'log_coxsampler_HMC_L_random_ft_adaptive_rep_33_dim_100.p', 'log_coxsampler_HMC_L_random_ft_adaptive_rep_35_dim_625.p', 'log_coxsampler_MALA_rep_16_dim_1600.p', 'log_coxsampler_MALA_rep_16_dim_400.p', 'log_coxsampler_MALA_rep_16_dim_625.p', 'log_coxsampler_MALA_rep_16_dim_900.p', 'log_coxsampler_MALA_rep_17_dim_100.p', 'log_coxsampler_MALA_rep_17_dim_1600.p', 'log_coxsampler_MALA_rep_17_dim_400.p', 'log_coxsampler_MALA_rep_17_dim_625.p', 'log_coxsampler_MALA_rep_17_dim_900.p', 'log_coxsampler_MALA_rep_18_dim_100.p', 'log_coxsampler_MALA_rep_18_dim_1600.p', 'log_coxsampler_MALA_rep_18_dim_400.p', 'log_coxsampler_MALA_rep_18_dim_625.p', 'log_coxsampler_MALA_rep_18_dim_900.p', 'log_coxsampler_MALA_rep_19_dim_100.p', 'log_coxsampler_MALA_rep_19_dim_1600.p', 'log_coxsampler_HMC_L_random_ft_adaptive_rep_19_dim_1600.p', 'log_coxsampler_HMC_L_random_ft_adaptive_rep_19_dim_400.p', 'log_coxsampler_HMC_L_random_ft_adaptive_rep_19_dim_625.p', 'log_coxsampler_HMC_L_random_ft_adaptive_rep_19_dim_900.p', 'log_coxsampler_HMC_L_random_ft_adaptive_rep_1_dim_100.p', 'log_coxsampler_HMC_L_random_ft_adaptive_rep_1_dim_1600.p', 'log_coxsampler_HMC_L_random_ft_adaptive_rep_1_dim_400.p', 'log_coxsampler_HMC_L_random_ft_adaptive_rep_1_dim_625.p', 'log_coxsampler_HMC_L_random_ft_adaptive_rep_1_dim_900.p', 'log_coxsampler_HMC_L_random_ft_adaptive_rep_20_dim_100.p', 'log_coxsampler_HMC_L_random_ft_adaptive_rep_20_dim_1600.p', 'log_coxsampler_HMC_L_random_ft_adaptive_rep_20_dim_400.p', 'log_coxsampler_HMC_L_random_ft_adaptive_rep_20_dim_625.p', 'log_coxsampler_HMC_L_random_ours_adaptive_rep_17_dim_1600.p', 'log_coxsampler_HMC_L_random_ours_adaptive_rep_17_dim_400.p', 'log_coxsampler_HMC_L_random_ours_adaptive_rep_17_dim_625.p', 'log_coxsampler_HMC_L_random_ours_adaptive_rep_17_dim_900.p', 'log_coxsampler_HMC_L_random_ours_adaptive_rep_18_dim_100.p', 'log_coxsampler_HMC_L_random_ours_adaptive_rep_18_dim_1600.p', 'log_coxsampler_HMC_L_random_ours_adaptive_rep_18_dim_400.p', 'log_coxsampler_HMC_L_random_ours_adaptive_rep_18_dim_625.p', 'log_coxsampler_HMC_L_random_ours_adaptive_rep_18_dim_900.p', 'log_coxsampler_HMC_L_random_ours_adaptive_rep_19_dim_100.p', 'log_coxsampler_HMC_L_random_ours_adaptive_rep_19_dim_1600.p', 'log_coxsampler_HMC_L_random_ours_adaptive_rep_19_dim_400.p', 'log_coxsampler_HMC_L_random_ours_adaptive_rep_19_dim_625.p', 'log_coxsampler_MALA_rep_28_dim_1600.p', 'log_coxsampler_MALA_rep_28_dim_400.p', 'log_coxsampler_MALA_rep_28_dim_625.p', 'log_coxsampler_MALA_rep_28_dim_900.p', 'log_coxsampler_MALA_rep_29_dim_100.p', 'log_coxsampler_MALA_rep_29_dim_1600.p', 'log_coxsampler_MALA_rep_29_dim_400.p', 'log_coxsampler_MALA_rep_29_dim_625.p', 'log_coxsampler_MALA_rep_29_dim_900.p', 'log_coxsampler_MALA_rep_2_dim_100.p', 'log_coxsampler_MALA_rep_2_dim_1600.p', 'log_coxsampler_MALA_rep_2_dim_400.p', 'log_coxsampler_HMC_L_random_ft_adaptive_rep_29_dim_1600.p', 'log_coxsampler_HMC_L_random_ft_adaptive_rep_29_dim_400.p', 'log_coxsampler_HMC_L_random_ft_adaptive_rep_29_dim_625.p', 'log_coxsampler_HMC_L_random_ft_adaptive_rep_29_dim_900.p', 'log_coxsampler_HMC_L_random_ft_adaptive_rep_2_dim_100.p', 'log_coxsampler_HMC_L_random_ft_adaptive_rep_2_dim_1600.p', 'log_coxsampler_HMC_L_random_ft_adaptive_rep_2_dim_400.p', 'log_coxsampler_HMC_L_random_ft_adaptive_rep_2_dim_625.p', 'log_coxsampler_HMC_L_random_ft_adaptive_rep_2_dim_900.p', 'log_coxsampler_HMC_L_random_ft_adaptive_rep_30_dim_100.p', 'log_coxsampler_HMC_L_random_ft_adaptive_rep_30_dim_1600.p', 'log_coxsampler_HMC_L_random_ft_adaptive_rep_30_dim_400.p', 'log_coxsampler_HMC_L_random_ours_adaptive_rep_27_dim_1600.p', 'log_coxsampler_HMC_L_random_ours_adaptive_rep_27_dim_400.p', 'log_coxsampler_HMC_L_random_ours_adaptive_rep_27_dim_625.p', 'log_coxsampler_HMC_L_random_ours_adaptive_rep_27_dim_900.p', 'log_coxsampler_HMC_L_random_ours_adaptive_rep_28_dim_100.p', 'log_coxsampler_HMC_L_random_ours_adaptive_rep_28_dim_1600.p', 'log_coxsampler_HMC_L_random_ours_adaptive_rep_28_dim_400.p', 'log_coxsampler_HMC_L_random_ours_adaptive_rep_28_dim_625.p', 'log_coxsampler_HMC_L_random_ours_adaptive_rep_28_dim_900.p', 'log_coxsampler_HMC_L_random_ours_adaptive_rep_29_dim_100.p', 'log_coxsampler_HMC_L_random_ours_adaptive_rep_29_dim_1600.p', 'log_coxsampler_HMC_L_random_ours_adaptive_rep_29_dim_400.p', 'log_coxsampler_HMC_L_random_ours_adaptive_rep_29_dim_625.p', 'log_coxsampler_HMC_L_random_ours_adaptive_rep_29_dim_900.p', 'log_coxsampler_MALA_rep_39_dim_1600.p', 'log_coxsampler_MALA_rep_39_dim_400.p', 'log_coxsampler_MALA_rep_39_dim_625.p', 'log_coxsampler_MALA_rep_39_dim_900.p', 'log_coxsampler_MALA_rep_3_dim_100.p', 'log_coxsampler_MALA_rep_3_dim_1600.p', 'log_coxsampler_MALA_rep_3_dim_400.p', 'log_coxsampler_MALA_rep_3_dim_625.p', 'log_coxsampler_MALA_rep_3_dim_900.p', 'log_coxsampler_MALA_rep_4_dim_100.p', 'log_coxsampler_MALA_rep_4_dim_1600.p', 'log_coxsampler_MALA_rep_4_dim_400.p', 'log_coxsampler_MALA_rep_4_dim_625.p', 'log_coxsampler_MALA_rep_4_dim_900.p', 'log_coxsampler_MALA_rep_5_dim_100.p', 'log_coxsampler_MALA_rep_5_dim_1600.p', 'log_coxsampler_MALA_rep_5_dim_400.p', 'log_coxsampler_MALA_rep_5_dim_625.p', 'log_coxsampler_MALA_rep_5_dim_900.p', 'log_coxsampler_MALA_rep_0_dim_1600.p', 'log_coxsampler_MALA_rep_0_dim_400.p', 'log_coxsampler_MALA_rep_0_dim_625.p', 'log_coxsampler_MALA_rep_0_dim_900.p', 'log_coxsampler_MALA_rep_10_dim_100.p', 'log_coxsampler_MALA_rep_10_dim_1600.p', 'log_coxsampler_MALA_rep_10_dim_400.p', 'log_coxsampler_MALA_rep_10_dim_625.p', 'log_coxsampler_MALA_rep_10_dim_900.p', 'log_coxsampler_MALA_rep_11_dim_100.p', 'log_coxsampler_MALA_rep_11_dim_1600.p', 'log_coxsampler_MALA_rep_11_dim_400.p', 'log_coxsampler_MALA_rep_11_dim_625.p', 'log_coxsampler_MALA_rep_11_dim_900.p', 'log_coxsampler_MALA_rep_12_dim_100.p', 'log_coxsampler_MALA_rep_12_dim_1600.p', 'log_coxsampler_HMC_L_random_ours_adaptive_rep_11_dim_625.p', 'log_coxsampler_HMC_L_random_ours_adaptive_rep_11_dim_900.p', 'log_coxsampler_HMC_L_random_ours_adaptive_rep_12_dim_100.p', 'log_coxsampler_HMC_L_random_ours_adaptive_rep_12_dim_1600.p', 'log_coxsampler_HMC_L_random_ours_adaptive_rep_12_dim_400.p', 'log_coxsampler_HMC_L_random_ours_adaptive_rep_12_dim_625.p', 'log_coxsampler_HMC_L_random_ours_adaptive_rep_12_dim_900.p', 'log_coxsampler_HMC_L_random_ours_adaptive_rep_13_dim_100.p', 'log_coxsampler_HMC_L_random_ours_adaptive_rep_13_dim_1600.p', 'log_coxsampler_HMC_L_random_ours_adaptive_rep_13_dim_400.p', 'log_coxsampler_HMC_L_random_ours_adaptive_rep_13_dim_625.p', 'log_coxsampler_HMC_L_random_ours_adaptive_rep_13_dim_900.p', 'log_coxsampler_HMC_L_random_ours_adaptive_rep_21_dim_625.p', 'log_coxsampler_HMC_L_random_ours_adaptive_rep_21_dim_900.p', 'log_coxsampler_HMC_L_random_ours_adaptive_rep_22_dim_100.p', 'log_coxsampler_HMC_L_random_ours_adaptive_rep_22_dim_1600.p', 'log_coxsampler_HMC_L_random_ours_adaptive_rep_22_dim_400.p', 'log_coxsampler_HMC_L_random_ours_adaptive_rep_22_dim_625.p', 'log_coxsampler_HMC_L_random_ours_adaptive_rep_22_dim_900.p', 'log_coxsampler_HMC_L_random_ours_adaptive_rep_23_dim_100.p', 'log_coxsampler_HMC_L_random_ours_adaptive_rep_23_dim_1600.p', 'log_coxsampler_HMC_L_random_ours_adaptive_rep_23_dim_400.p', 'log_coxsampler_HMC_L_random_ours_adaptive_rep_23_dim_625.p', 'log_coxsampler_HMC_L_random_ours_adaptive_rep_23_dim_900.p', 'log_coxsampler_HMC_L_random_ft_adaptive_rep_23_dim_625.p', 'log_coxsampler_HMC_L_random_ft_adaptive_rep_23_dim_900.p', 'log_coxsampler_HMC_L_random_ft_adaptive_rep_24_dim_100.p', 'log_coxsampler_HMC_L_random_ft_adaptive_rep_24_dim_1600.p', 'log_coxsampler_HMC_L_random_ft_adaptive_rep_24_dim_400.p', 'log_coxsampler_HMC_L_random_ft_adaptive_rep_24_dim_625.p', 'log_coxsampler_HMC_L_random_ft_adaptive_rep_24_dim_900.p', 'log_coxsampler_HMC_L_random_ft_adaptive_rep_25_dim_100.p', 'log_coxsampler_HMC_L_random_ft_adaptive_rep_25_dim_1600.p', 'log_coxsampler_HMC_L_random_ft_adaptive_rep_25_dim_400.p', 'log_coxsampler_HMC_L_random_ft_adaptive_rep_25_dim_625.p', 'log_coxsampler_HMC_L_random_ft_adaptive_rep_25_dim_900.p', 'log_coxsampler_HMC_L_random_ft_adaptive_rep_38_dim_1600.p', 'log_coxsampler_HMC_L_random_ft_adaptive_rep_38_dim_400.p', 'log_coxsampler_HMC_L_random_ft_adaptive_rep_38_dim_625.p', 'log_coxsampler_HMC_L_random_ft_adaptive_rep_38_dim_900.p', 'log_coxsampler_HMC_L_random_ft_adaptive_rep_39_dim_100.p', 'log_coxsampler_HMC_L_random_ft_adaptive_rep_39_dim_1600.p', 'log_coxsampler_HMC_L_random_ft_adaptive_rep_39_dim_400.p', 'log_coxsampler_HMC_L_random_ft_adaptive_rep_39_dim_625.p', 'log_coxsampler_HMC_L_random_ft_adaptive_rep_39_dim_900.p', 'log_coxsampler_HMC_L_random_ft_adaptive_rep_3_dim_100.p', 'log_coxsampler_HMC_L_random_ft_adaptive_rep_3_dim_1600.p', 'log_coxsampler_HMC_L_random_ft_adaptive_rep_3_dim_400.p', 'log_coxsampler_HMC_L_random_ft_adaptive_rep_3_dim_625.p', 'log_coxsampler_HMC_L_random_ft_adaptive_rep_3_dim_900.p', 'log_coxsampler_HMC_L_random_ft_adaptive_rep_4_dim_100.p', 'log_coxsampler_HMC_L_random_ft_adaptive_rep_4_dim_1600.p', 'log_coxsampler_HMC_L_random_ft_adaptive_rep_4_dim_400.p', 'log_coxsampler_HMC_L_random_ours_adaptive_rep_32_dim_1600.p', 'log_coxsampler_HMC_L_random_ours_adaptive_rep_32_dim_400.p', 'log_coxsampler_HMC_L_random_ours_adaptive_rep_32_dim_625.p', 'log_coxsampler_HMC_L_random_ours_adaptive_rep_32_dim_900.p', 'log_coxsampler_HMC_L_random_ours_adaptive_rep_33_dim_100.p', 'log_coxsampler_HMC_L_random_ours_adaptive_rep_33_dim_1600.p', 'log_coxsampler_HMC_L_random_ours_adaptive_rep_33_dim_400.p', 'log_coxsampler_HMC_L_random_ours_adaptive_rep_33_dim_625.p', 'log_coxsampler_HMC_L_random_ours_adaptive_rep_33_dim_900.p', 'log_coxsampler_HMC_L_random_ours_adaptive_rep_34_dim_100.p', 'log_coxsampler_HMC_L_random_ours_adaptive_rep_34_dim_1600.p', 'log_coxsampler_HMC_L_random_ours_adaptive_rep_34_dim_400.p', 'log_coxsampler_HMC_L_random_ft_adaptive_rep_14_dim_1600.p', 'log_coxsampler_HMC_L_random_ft_adaptive_rep_14_dim_400.p', 'log_coxsampler_HMC_L_random_ft_adaptive_rep_14_dim_625.p', 'log_coxsampler_HMC_L_random_ft_adaptive_rep_14_dim_900.p', 'log_coxsampler_HMC_L_random_ft_adaptive_rep_15_dim_100.p', 'log_coxsampler_HMC_L_random_ft_adaptive_rep_15_dim_1600.p', 'log_coxsampler_HMC_L_random_ft_adaptive_rep_15_dim_400.p', 'log_coxsampler_HMC_L_random_ft_adaptive_rep_15_dim_625.p', 'log_coxsampler_HMC_L_random_ft_adaptive_rep_15_dim_900.p', 'log_coxsampler_HMC_L_random_ft_adaptive_rep_16_dim_100.p', 'log_coxsampler_HMC_L_random_ft_adaptive_rep_16_dim_1600.p', 'log_coxsampler_HMC_L_random_ft_adaptive_rep_16_dim_400.p', 'log_coxsampler_MALA_rep_21_dim_625.p', 'log_coxsampler_MALA_rep_21_dim_900.p', 'log_coxsampler_MALA_rep_22_dim_100.p', 'log_coxsampler_MALA_rep_22_dim_1600.p', 'log_coxsampler_MALA_rep_22_dim_400.p', 'log_coxsampler_MALA_rep_22_dim_625.p', 'log_coxsampler_MALA_rep_22_dim_900.p', 'log_coxsampler_MALA_rep_23_dim_100.p', 'log_coxsampler_MALA_rep_23_dim_1600.p', 'log_coxsampler_MALA_rep_23_dim_400.p', 'log_coxsampler_MALA_rep_23_dim_625.p', 'log_coxsampler_MALA_rep_23_dim_900.p', 'log_coxsampler_MALA_rep_24_dim_100.p', 'log_coxsampler_MALA_rep_24_dim_1600.p', 'log_coxsampler_MALA_rep_24_dim_400.p', 'log_coxsampler_HMC_L_random_ft_adaptive_rep_33_dim_1600.p', 'log_coxsampler_HMC_L_random_ft_adaptive_rep_33_dim_400.p', 'log_coxsampler_HMC_L_random_ft_adaptive_rep_33_dim_625.p', 'log_coxsampler_HMC_L_random_ft_adaptive_rep_33_dim_900.p', 'log_coxsampler_HMC_L_random_ft_adaptive_rep_34_dim_100.p', 'log_coxsampler_HMC_L_random_ft_adaptive_rep_34_dim_1600.p', 'log_coxsampler_HMC_L_random_ft_adaptive_rep_34_dim_400.p', 'log_coxsampler_HMC_L_random_ft_adaptive_rep_34_dim_625.p', 'log_coxsampler_HMC_L_random_ft_adaptive_rep_34_dim_900.p', 'log_coxsampler_HMC_L_random_ft_adaptive_rep_35_dim_100.p', 'log_coxsampler_HMC_L_random_ft_adaptive_rep_35_dim_1600.p', 'log_coxsampler_HMC_L_random_ft_adaptive_rep_35_dim_400.p', 'log_coxsampler_HMC_L_random_ours_adaptive_rep_7_dim_100.p', 'log_coxsampler_HMC_L_random_ours_adaptive_rep_7_dim_1600.p', 'log_coxsampler_HMC_L_random_ours_adaptive_rep_7_dim_400.p', 'log_coxsampler_HMC_L_random_ours_adaptive_rep_7_dim_625.p', 'log_coxsampler_HMC_L_random_ours_adaptive_rep_7_dim_900.p', 'log_coxsampler_HMC_L_random_ours_adaptive_rep_8_dim_100.p', 'log_coxsampler_HMC_L_random_ours_adaptive_rep_8_dim_1600.p', 'log_coxsampler_HMC_L_random_ours_adaptive_rep_8_dim_400.p', 'log_coxsampler_HMC_L_random_ours_adaptive_rep_8_dim_625.p', 'log_coxsampler_HMC_L_random_ours_adaptive_rep_8_dim_900.p', 'log_coxsampler_HMC_L_random_ours_adaptive_rep_9_dim_100.p', 'log_coxsampler_HMC_L_random_ours_adaptive_rep_9_dim_1600.p', 'log_coxsampler_HMC_L_random_ours_adaptive_rep_9_dim_400.p', 'log_coxsampler_HMC_L_random_ours_adaptive_rep_9_dim_625.p', 'log_coxsampler_HMC_L_random_ours_adaptive_rep_9_dim_900.p', 'log_coxsampler_MALA_rep_6_dim_1600.p', 'log_coxsampler_MALA_rep_6_dim_400.p', 'log_coxsampler_MALA_rep_6_dim_625.p', 'log_coxsampler_MALA_rep_6_dim_900.p', 'log_coxsampler_MALA_rep_7_dim_100.p', 'log_coxsampler_MALA_rep_7_dim_1600.p', 'log_coxsampler_MALA_rep_7_dim_400.p', 'log_coxsampler_MALA_rep_7_dim_625.p', 'log_coxsampler_MALA_rep_7_dim_900.p', 'log_coxsampler_MALA_rep_8_dim_100.p', 'log_coxsampler_MALA_rep_8_dim_1600.p', 'log_coxsampler_MALA_rep_8_dim_400.p', 'log_coxsampler_MALA_rep_8_dim_625.p', 'log_coxsampler_MALA_rep_8_dim_900.p', 'log_coxsampler_MALA_rep_9_dim_100.p', 'log_coxsampler_MALA_rep_9_dim_1600.p', 'log_coxsampler_MALA_rep_9_dim_400.p', 'log_coxsampler_MALA_rep_9_dim_625.p', 'log_coxsampler_MALA_rep_9_dim_900.p', 'log_cox_boxplot_normconst.png', 'log_coxsampler_MALA_rep_32_dim_625.p', 'log_coxsampler_MALA_rep_32_dim_900.p', 'log_coxsampler_MALA_rep_33_dim_100.p', 'log_coxsampler_MALA_rep_33_dim_1600.p', 'log_coxsampler_MALA_rep_33_dim_400.p', 'log_coxsampler_MALA_rep_33_dim_625.p', 'log_coxsampler_MALA_rep_33_dim_900.p', 'log_coxsampler_MALA_rep_34_dim_100.p', 'log_coxsampler_MALA_rep_34_dim_1600.p', 'log_coxsampler_MALA_rep_34_dim_400.p', 'log_coxsampler_MALA_rep_34_dim_625.p', 'log_coxsampler_MALA_rep_34_dim_900.p', 'log_coxsampler_MALA_rep_35_dim_100.p', 'log_coxsampler_MALA_rep_35_dim_1600.p', 'log_coxsampler_MALA_rep_35_dim_400.p', 'log_coxsampler_HMC_L_random_ours_adaptive_rep_2_dim_100.p', 'log_coxsampler_HMC_L_random_ours_adaptive_rep_32_dim_100.p', 'log_coxsampler_HMC_L_random_ours_adaptive_rep_34_dim_625.p', 'log_coxsampler_HMC_L_random_ours_adaptive_rep_37_dim_100.p', 'log_coxsampler_HMC_L_random_ours_adaptive_rep_4_dim_100.p', 'log_coxsampler_HMC_L_random_ours_adaptive_rep_6_dim_900.p', 'log_coxsampler_MALA_rep_0_dim_100.p', 'log_coxsampler_MALA_rep_12_dim_400.p', 'log_coxsampler_MALA_rep_16_dim_100.p', 'log_coxsampler_MALA_rep_19_dim_400.p', 'log_coxsampler_MALA_rep_21_dim_400.p', 'log_coxsampler_MALA_rep_24_dim_625.p', 'log_coxsampler_MALA_rep_28_dim_100.p', 'log_coxsampler_MALA_rep_2_dim_625.p', 'log_coxsampler_MALA_rep_32_dim_400.p', 'log_coxsampler_MALA_rep_35_dim_625.p', 'log_coxsampler_MALA_rep_39_dim_100.p', 'log_coxsampler_MALA_rep_6_dim_100.p', 'log_coxsampler_HMC_L_random_ours_adaptive_rep_37_dim_1600.p', 'log_coxsampler_HMC_L_random_ours_adaptive_rep_37_dim_400.p', 'log_coxsampler_HMC_L_random_ours_adaptive_rep_37_dim_625.p', 'log_coxsampler_HMC_L_random_ours_adaptive_rep_37_dim_900.p', 'log_coxsampler_HMC_L_random_ours_adaptive_rep_38_dim_100.p', 'log_coxsampler_HMC_L_random_ours_adaptive_rep_38_dim_1600.p', 'log_coxsampler_HMC_L_random_ours_adaptive_rep_38_dim_400.p', 'log_coxsampler_HMC_L_random_ours_adaptive_rep_38_dim_625.p', 'log_coxsampler_HMC_L_random_ours_adaptive_rep_38_dim_900.p', 'log_coxsampler_HMC_L_random_ours_adaptive_rep_39_dim_100.p', 'log_coxsampler_HMC_L_random_ours_adaptive_rep_39_dim_1600.p', 'log_coxsampler_HMC_L_random_ours_adaptive_rep_39_dim_400.p', 'log_coxsampler_HMC_L_random_ours_adaptive_rep_39_dim_625.p', 'log_coxsampler_HMC_L_random_ours_adaptive_rep_39_dim_900.p', 'log_coxsampler_HMC_L_random_ours_adaptive_rep_3_dim_100.p', 'log_coxsampler_HMC_L_random_ours_adaptive_rep_3_dim_1600.p', 'log_coxsampler_HMC_L_random_ours_adaptive_rep_3_dim_400.p', 'log_coxsampler_HMC_L_random_ours_adaptive_rep_3_dim_625.p', 'log_coxsampler_HMC_L_random_ours_adaptive_rep_3_dim_900.p', 'log_coxsampler_HMC_L_random_ft_adaptive_rep_4_dim_900.p', 'log_coxsampler_HMC_L_random_ft_adaptive_rep_5_dim_100.p', 'log_coxsampler_HMC_L_random_ft_adaptive_rep_5_dim_1600.p', 'log_coxsampler_HMC_L_random_ft_adaptive_rep_5_dim_400.p', 'log_coxsampler_HMC_L_random_ft_adaptive_rep_5_dim_625.p', 'log_coxsampler_HMC_L_random_ft_adaptive_rep_5_dim_900.p', 'log_coxsampler_HMC_L_random_ft_adaptive_rep_6_dim_100.p', 'log_coxsampler_HMC_L_random_ft_adaptive_rep_6_dim_1600.p', 'log_coxsampler_HMC_L_random_ft_adaptive_rep_6_dim_400.p', 'log_coxsampler_HMC_L_random_ft_adaptive_rep_6_dim_625.p', 'log_coxsampler_HMC_L_random_ft_adaptive_rep_6_dim_900.p', 'log_coxsampler_MALA_rep_12_dim_625.p', 'log_coxsampler_MALA_rep_12_dim_900.p', 'log_coxsampler_MALA_rep_13_dim_100.p', 'log_coxsampler_MALA_rep_13_dim_1600.p', 'log_coxsampler_MALA_rep_13_dim_400.p', 'log_coxsampler_MALA_rep_13_dim_625.p', 'log_coxsampler_MALA_rep_13_dim_900.p', 'log_coxsampler_MALA_rep_14_dim_100.p', 'log_coxsampler_MALA_rep_14_dim_1600.p', 'log_coxsampler_MALA_rep_14_dim_400.p', 'log_coxsampler_MALA_rep_14_dim_625.p', 'log_coxsampler_MALA_rep_14_dim_900.p', 'log_coxsampler_MALA_rep_15_dim_100.p', 'log_coxsampler_MALA_rep_15_dim_1600.p', 'log_coxsampler_MALA_rep_15_dim_400.p', 'log_coxsampler_MALA_rep_15_dim_625.p', 'log_coxsampler_MALA_rep_15_dim_900.p', 'log_coxsampler_HMC_L_random_ours_adaptive_rep_14_dim_1600.p', 'log_coxsampler_HMC_L_random_ours_adaptive_rep_14_dim_400.p', 'log_coxsampler_HMC_L_random_ours_adaptive_rep_14_dim_625.p', 'log_coxsampler_HMC_L_random_ours_adaptive_rep_14_dim_900.p', 'log_coxsampler_HMC_L_random_ours_adaptive_rep_15_dim_100.p', 'log_coxsampler_HMC_L_random_ours_adaptive_rep_15_dim_1600.p', 'log_coxsampler_HMC_L_random_ours_adaptive_rep_15_dim_400.p', 'log_coxsampler_HMC_L_random_ours_adaptive_rep_15_dim_625.p', 'log_coxsampler_HMC_L_random_ours_adaptive_rep_15_dim_900.p', 'log_coxsampler_HMC_L_random_ours_adaptive_rep_16_dim_100.p', 'log_coxsampler_HMC_L_random_ours_adaptive_rep_16_dim_1600.p', 'log_coxsampler_HMC_L_random_ours_adaptive_rep_16_dim_400.p', 'log_coxsampler_HMC_L_random_ours_adaptive_rep_16_dim_625.p', 'log_coxsampler_HMC_L_random_ours_adaptive_rep_16_dim_900.p', 'log_coxsampler_HMC_L_random_ours_adaptive_rep_24_dim_1600.p', 'log_coxsampler_HMC_L_random_ours_adaptive_rep_24_dim_400.p', 'log_coxsampler_HMC_L_random_ours_adaptive_rep_24_dim_625.p', 'log_coxsampler_HMC_L_random_ours_adaptive_rep_24_dim_900.p', 'log_coxsampler_HMC_L_random_ours_adaptive_rep_25_dim_100.p', 'log_coxsampler_HMC_L_random_ours_adaptive_rep_25_dim_1600.p', 'log_coxsampler_HMC_L_random_ours_adaptive_rep_25_dim_400.p', 'log_coxsampler_HMC_L_random_ours_adaptive_rep_25_dim_625.p', 'log_coxsampler_HMC_L_random_ours_adaptive_rep_25_dim_900.p', 'log_coxsampler_HMC_L_random_ours_adaptive_rep_26_dim_100.p', 'log_coxsampler_HMC_L_random_ours_adaptive_rep_26_dim_1600.p', 'log_coxsampler_HMC_L_random_ours_adaptive_rep_26_dim_400.p', 'log_coxsampler_HMC_L_random_ours_adaptive_rep_26_dim_625.p', 'log_coxsampler_HMC_L_random_ours_adaptive_rep_26_dim_900.p', 'log_coxsampler_HMC_L_random_ft_adaptive_rep_26_dim_1600.p', 'log_coxsampler_HMC_L_random_ft_adaptive_rep_26_dim_400.p', 'log_coxsampler_HMC_L_random_ft_adaptive_rep_26_dim_625.p', 'log_coxsampler_HMC_L_random_ft_adaptive_rep_26_dim_900.p', 'log_coxsampler_HMC_L_random_ft_adaptive_rep_27_dim_100.p', 'log_coxsampler_HMC_L_random_ft_adaptive_rep_27_dim_1600.p', 'log_coxsampler_HMC_L_random_ft_adaptive_rep_27_dim_400.p', 'log_coxsampler_HMC_L_random_ft_adaptive_rep_27_dim_625.p', 'log_coxsampler_HMC_L_random_ft_adaptive_rep_27_dim_900.p', 'log_coxsampler_HMC_L_random_ft_adaptive_rep_28_dim_100.p', 'log_coxsampler_HMC_L_random_ft_adaptive_rep_28_dim_1600.p', 'log_coxsampler_HMC_L_random_ft_adaptive_rep_28_dim_400.p', 'log_coxsampler_HMC_L_random_ft_adaptive_rep_28_dim_625.p', 'log_coxsampler_HMC_L_random_ft_adaptive_rep_28_dim_900.p', 'log_coxsampler_MALA_rep_24_dim_900.p', 'log_coxsampler_MALA_rep_25_dim_100.p', 'log_coxsampler_MALA_rep_25_dim_1600.p', 'log_coxsampler_MALA_rep_25_dim_400.p', 'log_coxsampler_MALA_rep_25_dim_625.p', 'log_coxsampler_MALA_rep_25_dim_900.p', 'log_coxsampler_MALA_rep_26_dim_100.p', 'log_coxsampler_MALA_rep_26_dim_1600.p', 'log_coxsampler_MALA_rep_26_dim_400.p', 'log_coxsampler_MALA_rep_26_dim_625.p', 'log_coxsampler_MALA_rep_26_dim_900.p', 'log_coxsampler_MALA_rep_27_dim_100.p', 'log_coxsampler_MALA_rep_27_dim_1600.p', 'log_coxsampler_MALA_rep_27_dim_400.p', 'log_coxsampler_MALA_rep_27_dim_625.p', 'log_coxsampler_MALA_rep_27_dim_900.p', 'log_coxsampler_HMC_L_random_ours_adaptive_rep_2_dim_1600.p', 'log_coxsampler_HMC_L_random_ours_adaptive_rep_2_dim_400.p', 'log_coxsampler_HMC_L_random_ours_adaptive_rep_2_dim_625.p', 'log_coxsampler_HMC_L_random_ours_adaptive_rep_2_dim_900.p', 'log_coxsampler_HMC_L_random_ours_adaptive_rep_30_dim_100.p', 'log_coxsampler_HMC_L_random_ours_adaptive_rep_30_dim_1600.p', 'log_coxsampler_HMC_L_random_ours_adaptive_rep_30_dim_400.p', 'log_coxsampler_HMC_L_random_ours_adaptive_rep_30_dim_625.p', 'log_coxsampler_HMC_L_random_ours_adaptive_rep_30_dim_900.p', 'log_coxsampler_HMC_L_random_ours_adaptive_rep_31_dim_100.p', 'log_coxsampler_HMC_L_random_ours_adaptive_rep_31_dim_1600.p', 'log_coxsampler_HMC_L_random_ours_adaptive_rep_31_dim_400.p', 'log_coxsampler_HMC_L_random_ours_adaptive_rep_31_dim_625.p', 'log_coxsampler_HMC_L_random_ours_adaptive_rep_31_dim_900.p', 'log_coxsampler_MALA_rep_35_dim_900.p', 'log_coxsampler_MALA_rep_36_dim_100.p', 'log_coxsampler_MALA_rep_36_dim_1600.p', 'log_coxsampler_MALA_rep_36_dim_400.p', 'log_coxsampler_MALA_rep_36_dim_625.p', 'log_coxsampler_MALA_rep_36_dim_900.p', 'log_coxsampler_MALA_rep_37_dim_100.p', 'log_coxsampler_MALA_rep_37_dim_1600.p', 'log_coxsampler_MALA_rep_37_dim_400.p', 'log_coxsampler_MALA_rep_37_dim_625.p', 'log_coxsampler_MALA_rep_37_dim_900.p', 'log_coxsampler_MALA_rep_38_dim_100.p', 'log_coxsampler_MALA_rep_38_dim_1600.p', 'log_coxsampler_MALA_rep_38_dim_400.p', 'log_coxsampler_MALA_rep_38_dim_625.p', 'log_coxsampler_MALA_rep_38_dim_900.p', 'log_coxsampler_HMC_L_random_ours_adaptive_rep_0_dim_100.p', 'log_coxsampler_HMC_L_random_ours_adaptive_rep_0_dim_1600.p', 'log_coxsampler_HMC_L_random_ours_adaptive_rep_0_dim_400.p', 'log_coxsampler_HMC_L_random_ours_adaptive_rep_0_dim_625.p', 'log_coxsampler_HMC_L_random_ours_adaptive_rep_0_dim_900.p', 'log_coxsampler_HMC_L_random_ours_adaptive_rep_10_dim_100.p', 'log_coxsampler_HMC_L_random_ours_adaptive_rep_10_dim_1600.p', 'log_coxsampler_HMC_L_random_ours_adaptive_rep_10_dim_400.p', 'log_coxsampler_HMC_L_random_ours_adaptive_rep_10_dim_625.p', 'log_coxsampler_HMC_L_random_ours_adaptive_rep_10_dim_900.p', 'log_coxsampler_HMC_L_random_ours_adaptive_rep_11_dim_100.p', 'log_coxsampler_HMC_L_random_ours_adaptive_rep_11_dim_1600.p', 'log_coxsampler_HMC_L_random_ft_adaptive_rep_11_dim_900.p', 'log_coxsampler_HMC_L_random_ft_adaptive_rep_12_dim_100.p', 'log_coxsampler_HMC_L_random_ft_adaptive_rep_12_dim_1600.p', 'log_coxsampler_HMC_L_random_ft_adaptive_rep_12_dim_400.p', 'log_coxsampler_HMC_L_random_ft_adaptive_rep_12_dim_625.p', 'log_coxsampler_HMC_L_random_ft_adaptive_rep_12_dim_900.p', 'log_coxsampler_HMC_L_random_ft_adaptive_rep_13_dim_100.p', 'log_coxsampler_HMC_L_random_ft_adaptive_rep_13_dim_1600.p', 'log_coxsampler_HMC_L_random_ft_adaptive_rep_13_dim_400.p', 'log_coxsampler_HMC_L_random_ft_adaptive_rep_13_dim_625.p', 'log_coxsampler_HMC_L_random_ft_adaptive_rep_13_dim_900.p', 'log_coxsampler_HMC_L_random_ours_adaptive_rep_1_dim_100.p', 'log_coxsampler_HMC_L_random_ours_adaptive_rep_1_dim_1600.p', 'log_coxsampler_HMC_L_random_ours_adaptive_rep_1_dim_400.p', 'log_coxsampler_HMC_L_random_ours_adaptive_rep_1_dim_625.p', 'log_coxsampler_HMC_L_random_ours_adaptive_rep_1_dim_900.p', 'log_coxsampler_HMC_L_random_ours_adaptive_rep_20_dim_100.p', 'log_coxsampler_HMC_L_random_ours_adaptive_rep_20_dim_1600.p', 'log_coxsampler_HMC_L_random_ours_adaptive_rep_20_dim_400.p', 'log_coxsampler_HMC_L_random_ours_adaptive_rep_20_dim_625.p', 'log_coxsampler_HMC_L_random_ours_adaptive_rep_20_dim_900.p', 'log_coxsampler_HMC_L_random_ours_adaptive_rep_21_dim_100.p', 'log_coxsampler_HMC_L_random_ours_adaptive_rep_21_dim_1600.p', 'log_coxsampler_HMC_L_random_ft_adaptive_rep_21_dim_100.p', 'log_coxsampler_HMC_L_random_ft_adaptive_rep_21_dim_1600.p', 'log_coxsampler_HMC_L_random_ft_adaptive_rep_21_dim_400.p', 'log_coxsampler_HMC_L_random_ft_adaptive_rep_21_dim_625.p', 'log_coxsampler_HMC_L_random_ft_adaptive_rep_21_dim_900.p', 'log_coxsampler_HMC_L_random_ft_adaptive_rep_22_dim_100.p', 'log_coxsampler_HMC_L_random_ft_adaptive_rep_22_dim_1600.p', 'log_coxsampler_HMC_L_random_ft_adaptive_rep_22_dim_400.p', 'log_coxsampler_HMC_L_random_ft_adaptive_rep_22_dim_625.p', 'log_coxsampler_HMC_L_random_ft_adaptive_rep_22_dim_900.p', 'log_coxsampler_HMC_L_random_ft_adaptive_rep_23_dim_100.p', 'log_coxsampler_HMC_L_random_ft_adaptive_rep_23_dim_1600.p', 'log_coxsampler_HMC_L_random_ft_adaptive_rep_16_dim_900.p', 'log_coxsampler_HMC_L_random_ft_adaptive_rep_17_dim_100.p', 'log_coxsampler_HMC_L_random_ft_adaptive_rep_17_dim_1600.p', 'log_coxsampler_HMC_L_random_ft_adaptive_rep_17_dim_400.p', 'log_coxsampler_HMC_L_random_ft_adaptive_rep_17_dim_625.p', 'log_coxsampler_HMC_L_random_ft_adaptive_rep_17_dim_900.p', 'log_coxsampler_HMC_L_random_ft_adaptive_rep_18_dim_100.p', 'log_coxsampler_HMC_L_random_ft_adaptive_rep_18_dim_1600.p', 'log_coxsampler_HMC_L_random_ft_adaptive_rep_18_dim_400.p', 'log_coxsampler_HMC_L_random_ft_adaptive_rep_18_dim_625.p', 'log_coxsampler_HMC_L_random_ft_adaptive_rep_18_dim_900.p', 'log_coxsampler_MALA_rep_19_dim_625.p', 'log_coxsampler_MALA_rep_19_dim_900.p', 'log_coxsampler_MALA_rep_1_dim_100.p', 'log_coxsampler_MALA_rep_1_dim_1600.p', 'log_coxsampler_MALA_rep_1_dim_400.p', 'log_coxsampler_MALA_rep_1_dim_625.p', 'log_coxsampler_MALA_rep_1_dim_900.p', 'log_coxsampler_MALA_rep_20_dim_100.p', 'log_coxsampler_MALA_rep_20_dim_1600.p', 'log_coxsampler_MALA_rep_20_dim_400.p', 'log_coxsampler_MALA_rep_20_dim_625.p', 'log_coxsampler_MALA_rep_20_dim_900.p', 'log_coxsampler_MALA_rep_21_dim_100.p', 'log_coxsampler_MALA_rep_21_dim_1600.p', 'log_coxsampler_HMC_L_random_ft_adaptive_rep_30_dim_900.p', 'log_coxsampler_HMC_L_random_ft_adaptive_rep_31_dim_100.p', 'log_coxsampler_HMC_L_random_ft_adaptive_rep_31_dim_1600.p', 'log_coxsampler_HMC_L_random_ft_adaptive_rep_31_dim_400.p', 'log_coxsampler_HMC_L_random_ft_adaptive_rep_31_dim_625.p', 'log_coxsampler_HMC_L_random_ft_adaptive_rep_31_dim_900.p', 'log_coxsampler_HMC_L_random_ft_adaptive_rep_32_dim_100.p', 'log_coxsampler_HMC_L_random_ft_adaptive_rep_32_dim_1600.p', 'log_coxsampler_HMC_L_random_ft_adaptive_rep_32_dim_400.p', 'log_coxsampler_HMC_L_random_ft_adaptive_rep_32_dim_625.p', 'log_coxsampler_HMC_L_random_ft_adaptive_rep_32_dim_900.p', 'log_coxsampler_HMC_L_random_ft_adaptive_rep_4_dim_625.p', 'log_coxsampler_HMC_L_random_ft_adaptive_rep_7_dim_100.p', 'log_coxsampler_HMC_L_random_ft_adaptive_rep_9_dim_900.p', 'log_coxsampler_HMC_L_random_ours_adaptive_rep_11_dim_400.p', 'log_coxsampler_HMC_L_random_ours_adaptive_rep_14_dim_100.p', 'log_coxsampler_HMC_L_random_ours_adaptive_rep_17_dim_100.p', 'log_coxsampler_HMC_L_random_ours_adaptive_rep_19_dim_900.p', 'log_coxsampler_HMC_L_random_ours_adaptive_rep_21_dim_400.p', 'log_coxsampler_HMC_L_random_ours_adaptive_rep_24_dim_100.p', 'log_coxsampler_HMC_L_random_ft_adaptive_rep_38_dim_100.p', 'log_coxsampler_HMC_L_random_ours_adaptive_rep_27_dim_100.p', 'log_coxsampler_MALA_rep_2_dim_900.p', 'log_coxsampler_MALA_rep_30_dim_100.p', 'log_coxsampler_MALA_rep_30_dim_1600.p', 'log_coxsampler_MALA_rep_30_dim_400.p', 'log_coxsampler_MALA_rep_30_dim_625.p', 'log_coxsampler_MALA_rep_30_dim_900.p', 'log_coxsampler_MALA_rep_31_dim_100.p', 'log_coxsampler_MALA_rep_31_dim_1600.p', 'log_coxsampler_MALA_rep_31_dim_400.p', 'log_coxsampler_MALA_rep_31_dim_625.p', 'log_coxsampler_MALA_rep_31_dim_900.p', 'log_coxsampler_MALA_rep_32_dim_100.p', 'log_coxsampler_MALA_rep_32_dim_1600.p', 'log_coxsampler_HMC_L_random_ours_adaptive_rep_34_dim_900.p', 'log_coxsampler_HMC_L_random_ours_adaptive_rep_35_dim_100.p', 'log_coxsampler_HMC_L_random_ours_adaptive_rep_35_dim_1600.p', 'log_coxsampler_HMC_L_random_ours_adaptive_rep_35_dim_400.p', 'log_coxsampler_HMC_L_random_ours_adaptive_rep_35_dim_625.p', 'log_coxsampler_HMC_L_random_ours_adaptive_rep_35_dim_900.p', 'log_coxsampler_HMC_L_random_ours_adaptive_rep_36_dim_100.p', 'log_coxsampler_HMC_L_random_ours_adaptive_rep_36_dim_1600.p', 'log_coxsampler_HMC_L_random_ours_adaptive_rep_36_dim_400.p', 'log_coxsampler_HMC_L_random_ours_adaptive_rep_36_dim_625.p', 'log_coxsampler_HMC_L_random_ours_adaptive_rep_36_dim_900.p', 'log_coxsampler_HMC_L_random_ft_adaptive_rep_35_dim_900.p', 'log_coxsampler_HMC_L_random_ft_adaptive_rep_36_dim_100.p', 'log_coxsampler_HMC_L_random_ft_adaptive_rep_36_dim_1600.p', 'log_coxsampler_HMC_L_random_ft_adaptive_rep_36_dim_400.p', 'log_coxsampler_HMC_L_random_ft_adaptive_rep_36_dim_625.p', 'log_coxsampler_HMC_L_random_ft_adaptive_rep_36_dim_900.p', 'log_coxsampler_HMC_L_random_ft_adaptive_rep_37_dim_100.p', 'log_coxsampler_HMC_L_random_ft_adaptive_rep_37_dim_1600.p', 'log_coxsampler_HMC_L_random_ft_adaptive_rep_37_dim_400.p', 'log_coxsampler_HMC_L_random_ft_adaptive_rep_37_dim_625.p', 'log_coxsampler_HMC_L_random_ft_adaptive_rep_37_dim_900.p']\n"
     ]
    }
   ],
   "source": [
    "import pandas as pd\n",
    "import numpy as np\n",
    "import pickle\n",
    "import os\n",
    "import sys\n",
    "from matplotlib import pyplot as plt\n",
    "sys.path.append(\"/home/alex/Dropbox/smc_hmc/python_smchmc/smc_sampler_functions/\")\n",
    "sys.path.append(\"/home/alex/Dropbox/smc_hmc/python_smchmc/\")\n",
    "sys.path.append(\"/home/alex/Dropbox/smc_hmc/python_smchmc/help/\")\n",
    "import smc_sampler_functions.proposal_kernels\n",
    "#path = os.getcwd()\n",
    "#path = path.replace(\"/ipython_notebooks\",\"\")\n",
    "#path = \"/home/alex/inter_simulation_results/hsmc_harvard/results_simulation_log_cox\"\n",
    "path = \"/media/alex/Transcend/hsmc/results_simulation_log_cox\"\n",
    "os.chdir(path)\n",
    "model_name = 'normal_mix'\n",
    "names_files_list = os.listdir(path)\n",
    "print(names_files_list)\n",
    "import getsize_function"
   ]
  },
  {
   "cell_type": "code",
   "execution_count": 7,
   "metadata": {},
   "outputs": [],
   "source": [
    "dim_list = [100, 400, 900, 1600]#, 50, 100]\n",
    "dim_len = len(dim_list)\n",
    "M = 39\n",
    "names_samplers = [\"sampler_HMC_L_random_ours_adaptive_\", \"sampler_HMC_L_random_ft_adaptive_\",\"sampler_MALA_\"]#, \"sampler_RW_\"]\n",
    "names_prop = ['HMCAO', 'HMCAFT', 'MALA']#, 'RW']\n",
    "num_sampler = len(names_samplers)\n",
    "norm_const = np.zeros((M, num_sampler, dim_len))\n",
    "prob_positive = np.zeros((M, num_sampler, dim_len))\n",
    "trace_mean_particles = np.zeros((M, num_sampler, dim_len))\n",
    "#trace_var_particles = np.zeros((M, num_sampler, dim_len))\n",
    "computational_load = np.zeros((M, num_sampler, dim_len))\n",
    "particles_all = {str(dim) : np.zeros((M, num_sampler,dim)) for dim in dim_list}\n"
   ]
  },
  {
   "cell_type": "code",
   "execution_count": 8,
   "metadata": {},
   "outputs": [],
   "source": [
    "for i_dim, dim in enumerate(dim_list):\n",
    "    for m_rep in range(M):\n",
    "        for i, name_sampler in enumerate(names_samplers):\n",
    "            name_to_load = \"log_cox\"+name_sampler+\"rep_%s_dim_%s.p\"%(m_rep+1, dim)\n",
    "            #print name_to_load\n",
    "            res_dict = pickle.load(open(name_to_load, 'rb'))\n",
    "            norm_const[m_rep, i, i_dim] = sum(res_dict['Z_list'])\n",
    "            particles_all[str(dim)][m_rep, i,:] = res_dict['particles_resampled'].mean(axis=0)\n",
    "            trace_mean_particles[m_rep, i, i_dim] = res_dict['particles_resampled'].mean()\n",
    "            #trace_var_particles[m_rep, i, i_dim] = res_dict['particles_resampled'].var(axis=1).mean()\n",
    "            #computational_load[m_rep, i, i_dim] = len(res_dict['temp_list'])* len(res_dict['L_mean'])\n",
    "            if 'O' in names_prop[i]:\n",
    "                computational_load[m_rep, i, i_dim] = len(res_dict['temp_list'])* res_dict['L_mean'].mean()+(np.unique(res_dict['temp_list'])).shape[0]*res_dict['L_mean'].mean()\n",
    "            else: \n",
    "                computational_load[m_rep, i, i_dim] = len(res_dict['temp_list'])* res_dict['L_mean'].mean()\n"
   ]
  },
  {
   "cell_type": "code",
   "execution_count": 9,
   "metadata": {},
   "outputs": [
    {
     "data": {
      "text/plain": [
       "array([[[474.33873577, 490.29792256, 497.38904501, 501.78016721],\n",
       "        [474.39671183, 490.71314796, 497.33463332, 501.72640063],\n",
       "        [474.5183718 , 490.48729627, 497.51596473, 501.43812571]],\n",
       "\n",
       "       [[474.24120544, 491.01510308, 497.58677952, 501.6969745 ],\n",
       "        [474.44064371, 490.41240209, 497.76920538, 501.52253357],\n",
       "        [474.64696869, 490.43481966, 497.81982055, 501.64548316]],\n",
       "\n",
       "       [[474.29731223, 490.61965049, 497.42530612, 501.44216925],\n",
       "        [474.25092513, 490.60133843, 497.35401803, 501.42734386],\n",
       "        [474.33592688, 490.4184219 , 497.55660924, 501.67837199]],\n",
       "\n",
       "       [[474.37738682, 490.40623788, 497.41751152, 501.80376712],\n",
       "        [474.24914249, 490.55157133, 497.25070197, 501.65359225],\n",
       "        [474.30461465, 490.43791451, 497.48355132, 502.08894326]],\n",
       "\n",
       "       [[474.51551182, 490.54489392, 497.67167917, 501.89214064],\n",
       "        [474.10897048, 490.75520921, 497.17476731, 501.68386906],\n",
       "        [474.55614003, 490.74869874, 497.86373407, 501.87197258]],\n",
       "\n",
       "       [[474.20919975, 490.93543631, 497.77074621, 501.2566662 ],\n",
       "        [474.30630483, 490.81671688, 497.82952121, 501.89533579],\n",
       "        [474.2900579 , 490.75493466, 497.75000406, 501.68102857]],\n",
       "\n",
       "       [[474.32294886, 490.33029578, 497.12627455, 502.36958304],\n",
       "        [474.29963037, 490.50769997, 497.47997068, 501.8395421 ],\n",
       "        [474.20630336, 490.02765798, 497.46377528, 501.34541869]],\n",
       "\n",
       "       [[474.10302671, 490.91848606, 497.45365982, 502.02979602],\n",
       "        [474.30395316, 490.54920156, 497.26148211, 502.00626067],\n",
       "        [474.13727784, 490.88598358, 497.41341923, 501.51532388]],\n",
       "\n",
       "       [[474.25328479, 490.60554696, 497.67657985, 502.11532545],\n",
       "        [474.35012827, 490.64745653, 497.4794552 , 501.98432908],\n",
       "        [474.31435591, 490.43131688, 497.32809938, 501.58760291]],\n",
       "\n",
       "       [[474.10004125, 490.42572357, 497.72452337, 501.61685579],\n",
       "        [474.2436007 , 490.42826172, 497.49487198, 501.46571755],\n",
       "        [474.76104712, 490.69845844, 497.02049223, 501.7071124 ]],\n",
       "\n",
       "       [[474.05678266, 490.69778631, 497.54488454, 501.37884599],\n",
       "        [474.18415455, 490.47990332, 497.40081577, 501.77433856],\n",
       "        [474.2233093 , 490.55359547, 497.32356663, 501.7719124 ]],\n",
       "\n",
       "       [[474.12872112, 490.79769488, 497.41478792, 501.75477432],\n",
       "        [474.25013159, 490.43281422, 497.37392048, 501.36400046],\n",
       "        [474.14412577, 490.74513092, 497.73562216, 501.95101869]],\n",
       "\n",
       "       [[474.0929527 , 490.68716288, 497.28566916, 501.34283018],\n",
       "        [474.4078456 , 491.05501019, 497.59631398, 501.31064437],\n",
       "        [474.13942353, 490.51188796, 497.47191338, 501.74628798]],\n",
       "\n",
       "       [[473.71371021, 491.18572832, 497.28828242, 502.1014606 ],\n",
       "        [474.13043785, 490.66036849, 497.42884004, 501.60712755],\n",
       "        [474.28393643, 490.77339376, 497.45998631, 501.90828735]],\n",
       "\n",
       "       [[474.25803149, 490.58898228, 497.66942504, 501.84452174],\n",
       "        [474.32688616, 490.66871044, 497.29210826, 501.69697257],\n",
       "        [474.25557708, 490.72538297, 497.50958671, 501.62367668]],\n",
       "\n",
       "       [[474.43072208, 490.85405256, 497.19699674, 502.28530099],\n",
       "        [474.36085041, 490.60333286, 497.37952466, 501.33352161],\n",
       "        [474.35785638, 491.10731469, 497.46802752, 501.62110669]],\n",
       "\n",
       "       [[474.19805608, 490.64022129, 497.86575779, 501.9417226 ],\n",
       "        [474.07287707, 490.64999475, 497.13516669, 501.4420226 ],\n",
       "        [474.56702135, 490.77993251, 497.921541  , 501.2212176 ]],\n",
       "\n",
       "       [[473.86136953, 490.32546502, 497.69172568, 502.06549967],\n",
       "        [474.66251962, 490.55962541, 497.53641834, 501.76164103],\n",
       "        [474.41318304, 490.65374099, 497.71841058, 501.44637207]],\n",
       "\n",
       "       [[474.36292898, 490.61286781, 497.64215371, 502.05489687],\n",
       "        [474.3148413 , 490.71205155, 497.5169751 , 501.46931065],\n",
       "        [474.21646909, 490.31179838, 497.46198557, 502.11936789]],\n",
       "\n",
       "       [[474.3431345 , 490.59938219, 497.53408689, 502.07083505],\n",
       "        [474.22291825, 490.57736236, 497.64792068, 501.59003558],\n",
       "        [474.19789939, 490.54605727, 497.42585922, 501.44158945]],\n",
       "\n",
       "       [[474.12204612, 490.09850423, 497.11492044, 501.51404755],\n",
       "        [474.32737395, 490.59171439, 497.37306079, 501.61705914],\n",
       "        [474.23358891, 490.81378384, 497.39804589, 501.42913725]],\n",
       "\n",
       "       [[474.04344539, 490.67861424, 497.7873311 , 501.95768936],\n",
       "        [474.39641644, 490.69745617, 497.47167675, 501.3255422 ],\n",
       "        [474.43876001, 490.5849104 , 497.72463894, 501.66216127]],\n",
       "\n",
       "       [[474.53466215, 490.49501621, 498.14018387, 502.62614497],\n",
       "        [474.28213989, 490.6556385 , 497.45795657, 501.52492314],\n",
       "        [474.46553981, 490.69461423, 497.80206307, 502.01389514]],\n",
       "\n",
       "       [[474.09776167, 490.68291886, 497.37555023, 501.69762799],\n",
       "        [474.29839508, 490.38457966, 497.45067027, 501.41199497],\n",
       "        [474.41309225, 490.51144941, 497.77715153, 502.00259803]],\n",
       "\n",
       "       [[474.12712024, 490.71201329, 497.13495239, 501.76240549],\n",
       "        [474.47141756, 490.55093971, 497.6265853 , 501.78090714],\n",
       "        [474.73814072, 490.53464272, 497.44047119, 502.08402881]],\n",
       "\n",
       "       [[473.98646405, 490.76509756, 497.54934659, 501.39002848],\n",
       "        [474.36749208, 490.54711851, 497.30272972, 501.55400164],\n",
       "        [474.57049939, 490.68192401, 497.81714428, 501.41113843]],\n",
       "\n",
       "       [[474.50525993, 490.80443496, 497.61147517, 501.91827593],\n",
       "        [474.44425614, 490.5664843 , 497.34141342, 501.24059587],\n",
       "        [474.401228  , 490.81104477, 497.41190445, 501.54954172]],\n",
       "\n",
       "       [[474.33147351, 490.74883071, 497.17697255, 501.54140453],\n",
       "        [474.54107417, 490.53253588, 497.16314208, 501.49393221],\n",
       "        [474.04036863, 490.52959824, 497.44361547, 501.98391568]],\n",
       "\n",
       "       [[474.14502054, 490.25295935, 497.04170729, 501.84476397],\n",
       "        [474.31541167, 490.57030969, 497.69736981, 501.44872449],\n",
       "        [474.40922942, 490.53302487, 497.74391514, 501.73823177]],\n",
       "\n",
       "       [[474.33467063, 490.59247321, 497.56838681, 502.09313581],\n",
       "        [474.30230866, 490.59433005, 497.38802515, 501.82037999],\n",
       "        [474.34994361, 490.59127888, 497.61903978, 501.44957567]],\n",
       "\n",
       "       [[474.32716164, 490.6392098 , 498.20859189, 501.72795946],\n",
       "        [474.52030055, 490.6111405 , 497.20852221, 501.73695227],\n",
       "        [474.3333241 , 490.62881073, 497.34255452, 501.89514695]],\n",
       "\n",
       "       [[474.50306053, 490.59000162, 497.46433177, 501.69017872],\n",
       "        [474.58157946, 490.72901646, 497.12982289, 501.53092534],\n",
       "        [474.37666039, 490.64514799, 497.55316368, 501.25636199]],\n",
       "\n",
       "       [[473.98498165, 490.66959251, 497.37902206, 502.04663465],\n",
       "        [473.92208767, 490.70237856, 497.23337649, 501.38917095],\n",
       "        [474.38637622, 490.60399795, 497.56705518, 501.44529723]],\n",
       "\n",
       "       [[474.18569294, 490.87564032, 497.39709699, 502.13145786],\n",
       "        [474.14677827, 490.65212644, 497.57020236, 501.99486646],\n",
       "        [474.42946725, 490.73002543, 497.67619966, 502.13469162]],\n",
       "\n",
       "       [[473.9331401 , 490.38343421, 497.64469918, 501.89628945],\n",
       "        [474.34136146, 490.88011534, 497.69186603, 501.91658045],\n",
       "        [474.54724145, 490.65160702, 497.7391528 , 501.49772447]],\n",
       "\n",
       "       [[474.39517767, 491.02755096, 497.39435492, 501.8111192 ],\n",
       "        [474.65751672, 490.71999342, 497.8714183 , 501.45484828],\n",
       "        [474.08071081, 490.84892814, 497.70924475, 501.92202067]],\n",
       "\n",
       "       [[474.26361002, 490.50714362, 497.58832465, 501.15986504],\n",
       "        [474.10856149, 490.65066464, 497.63022055, 501.58321131],\n",
       "        [474.40655248, 490.64857923, 497.51396613, 502.07747089]],\n",
       "\n",
       "       [[474.74292384, 490.83026278, 497.17992424, 501.8149082 ],\n",
       "        [474.41001044, 490.6529991 , 497.68656748, 501.32635651],\n",
       "        [474.33199055, 490.80408591, 497.70335096, 501.98665026]],\n",
       "\n",
       "       [[474.41154232, 490.66533674, 497.43068987, 501.5071461 ],\n",
       "        [474.09648504, 490.42749917, 497.35734389, 501.42220574],\n",
       "        [474.27389162, 490.76222461, 497.73465595, 501.89994706]]])"
      ]
     },
     "execution_count": 9,
     "metadata": {},
     "output_type": "execute_result"
    }
   ],
   "source": [
    "norm_const"
   ]
  },
  {
   "cell_type": "code",
   "execution_count": 13,
   "metadata": {},
   "outputs": [
    {
     "name": "stdout",
     "output_type": "stream",
     "text": [
      "(1024, 1600)\n",
      "[[0.00592002 0.00833683 0.00622089 0.00896646]\n",
      " [0.00404775 0.00250383 0.00194759 0.00227912]\n",
      " [0.00204027 0.00358361 0.00739943 0.00800052]]\n",
      "[[ 40.53709751  64.29024973 102.49088478 180.58644455]\n",
      " [ 11.95418946   8.82364804  19.18047206  24.82250836]\n",
      " [  8.22999216  19.17880137  34.57454109 105.52312816]]\n"
     ]
    },
    {
     "data": {
      "image/png": "[encoded data removed]",
      "text/plain": [
       "<matplotlib.figure.Figure at 0x7f4b22527b50>"
      ]
     },
     "metadata": {},
     "output_type": "display_data"
    }
   ],
   "source": [
    "import matplotlib.pyplot as plt\n",
    "import seaborn as sns\n",
    "sns.set_style(\"whitegrid\", {'axes.grid' : False})\n",
    "#sns.set_palette(\"husl\")\n",
    "sns.set_palette(\"PuBuGn_d\")\n",
    "\n",
    "print res_dict['particles_resampled'].shape\n",
    "print trace_mean_particles.var(axis=0)*computational_load.mean(axis=0)\n",
    "print norm_const.var(axis=0)*computational_load.mean(axis=0)\n",
    "plt.figure(figsize=(15,6))\n",
    "plt.subplot(141)\n",
    "plt.title('Dimension 100')\n",
    "plt.boxplot(norm_const[:,:,0], labels=names_prop)\n",
    "plt.subplot(142)\n",
    "plt.title('Dimension 400')\n",
    "plt.boxplot(norm_const[:,:,1], labels=names_prop)\n",
    "plt.subplot(143)\n",
    "plt.title('Dimension 900')\n",
    "plt.boxplot(norm_const[:,:,2], labels=names_prop)\n",
    "plt.subplot(144)\n",
    "plt.title('Dimension 1600')\n",
    "plt.boxplot(norm_const[:,:,3], labels=names_prop)\n",
    "plt.savefig('log_cox_boxplot_normconst.png'); plt.show()"
   ]
  },
  {
   "cell_type": "code",
   "execution_count": 19,
   "metadata": {},
   "outputs": [
    {
     "ename": "KeyError",
     "evalue": "'parameters'",
     "output_type": "error",
     "traceback": [
      "\u001b[0;31m---------------------------------------------------------------------------\u001b[0m",
      "\u001b[0;31mKeyError\u001b[0m                                  Traceback (most recent call last)",
      "\u001b[0;32m<ipython-input-19-2246e6790517>\u001b[0m in \u001b[0;36m<module>\u001b[0;34m()\u001b[0m\n\u001b[1;32m      1\u001b[0m \u001b[0mparticles_all\u001b[0m\u001b[0;34m[\u001b[0m\u001b[0;34m'400'\u001b[0m\u001b[0;34m]\u001b[0m\u001b[0;34m.\u001b[0m\u001b[0mshape\u001b[0m\u001b[0;34m\u001b[0m\u001b[0m\n\u001b[0;32m----> 2\u001b[0;31m \u001b[0mres_dict\u001b[0m\u001b[0;34m[\u001b[0m\u001b[0;34m'parameters'\u001b[0m\u001b[0;34m]\u001b[0m\u001b[0;34m[\u001b[0m\u001b[0;34m'Y'\u001b[0m\u001b[0;34m]\u001b[0m\u001b[0;34m\u001b[0m\u001b[0m\n\u001b[0m",
      "\u001b[0;31mKeyError\u001b[0m: 'parameters'"
     ]
    }
   ],
   "source": [
    "particles_all['400'].shape\n",
    "res_dict['parameters']['Y']"
   ]
  },
  {
   "cell_type": "code",
   "execution_count": 18,
   "metadata": {},
   "outputs": [
    {
     "ename": "KeyError",
     "evalue": "'parameters'",
     "output_type": "error",
     "traceback": [
      "\u001b[0;31m---------------------------------------------------------------------------\u001b[0m",
      "\u001b[0;31mKeyError\u001b[0m                                  Traceback (most recent call last)",
      "\u001b[0;32m<ipython-input-18-33b98adba9f0>\u001b[0m in \u001b[0;36m<module>\u001b[0;34m()\u001b[0m\n\u001b[1;32m      8\u001b[0m \u001b[0;34m\u001b[0m\u001b[0m\n\u001b[1;32m      9\u001b[0m \u001b[0;34m\u001b[0m\u001b[0m\n\u001b[0;32m---> 10\u001b[0;31m \u001b[0mY_matrix\u001b[0m \u001b[0;34m=\u001b[0m \u001b[0mres_dict\u001b[0m\u001b[0;34m[\u001b[0m\u001b[0;34m'parameters'\u001b[0m\u001b[0;34m]\u001b[0m\u001b[0;34m[\u001b[0m\u001b[0;34m'Y'\u001b[0m\u001b[0;34m]\u001b[0m\u001b[0;34m.\u001b[0m\u001b[0mreshape\u001b[0m\u001b[0;34m(\u001b[0m\u001b[0mngrid\u001b[0m\u001b[0;34m,\u001b[0m\u001b[0mngrid\u001b[0m\u001b[0;34m)\u001b[0m\u001b[0;34m\u001b[0m\u001b[0m\n\u001b[0m\u001b[1;32m     11\u001b[0m \u001b[0;31m#Y_matrix_samled = Y_sampled.reshape(parameters_log_cox['N'],parameters_log_cox['N'])\u001b[0m\u001b[0;34m\u001b[0m\u001b[0;34m\u001b[0m\u001b[0m\n\u001b[1;32m     12\u001b[0m \u001b[0;31m#X_matrix = parameters_log_cox['X_true'].reshape(parameters_log_cox['N'],parameters_log_cox['N'])\u001b[0m\u001b[0;34m\u001b[0m\u001b[0;34m\u001b[0m\u001b[0m\n",
      "\u001b[0;31mKeyError\u001b[0m: 'parameters'"
     ]
    }
   ],
   "source": [
    "#x_res_matrixmean1 = res_first_iteration[0]['particles_resampled'].mean(axis=0).reshape(parameters_log_cox['N'],parameters_log_cox['N'])\n",
    "ngrid = 40\n",
    "x_res_matrixmean1 = particles_all[str(ngrid**2)][0,0,:].reshape(ngrid, ngrid)\n",
    "#x_res_matrixmean2 = res_first_iteration[1]['particles_resampled'].mean(axis=0).reshape(parameters_log_cox['N'],parameters_log_cox['N'])\n",
    "#x_res_matrixvar1 = res_first_iteration[0]['particles_resampled'].var(axis=0).reshape(parameters_log_cox['N'],parameters_log_cox['N'])\n",
    "#x_res_matrixvar1 = res_repeated_sampling['mean_array'].var(axis=1)[0,:,:].reshape(parameters_log_cox['N'],parameters_log_cox['N'])\n",
    "#x_res_matrixvar2 = res_first_iteration[1]['particles_resampled'].var(axis=0).reshape(parameters_log_cox['N'],parameters_log_cox['N'])\n",
    "\n",
    "\n",
    "Y_matrix = res_dict['parameters']['Y'].reshape(ngrid,ngrid)\n",
    "#Y_matrix_samled = Y_sampled.reshape(parameters_log_cox['N'],parameters_log_cox['N'])\n",
    "#X_matrix = parameters_log_cox['X_true'].reshape(parameters_log_cox['N'],parameters_log_cox['N'])\n",
    "\n",
    "plt.figure(figsize=(16,10))\n",
    "\n",
    "plt.subplot(231)\n",
    "plt.title('Latent field HMCAO')\n",
    "im = plt.imshow(particles_all[str(ngrid**2)][:,0,:].mean(axis=0).reshape(ngrid, ngrid),cmap='jet')\n",
    "plt.colorbar(im,fraction=0.046, pad=0.04)\n",
    "\n",
    "plt.subplot(232)\n",
    "plt.title('Latent field HMCAFT')\n",
    "im = plt.imshow(particles_all[str(ngrid**2)][:,1,:].mean(axis=0).reshape(ngrid, ngrid),cmap='jet')\n",
    "plt.colorbar(im,fraction=0.046, pad=0.04)\n",
    "\n",
    "plt.subplot(233)\n",
    "plt.title('Latent field MALA')\n",
    "im = plt.imshow(particles_all[str(ngrid**2)][:,2,:].mean(axis=0).reshape(ngrid, ngrid),cmap='jet')\n",
    "plt.colorbar(im,fraction=0.046, pad=0.04)\n",
    "\n",
    "plt.subplot(234)\n",
    "plt.title('Latent field RW')\n",
    "im = plt.imshow(particles_all[str(ngrid**2)][:,3,:].mean(axis=0).reshape(ngrid, ngrid),cmap='jet')\n",
    "plt.colorbar(im,fraction=0.046, pad=0.04)\n",
    "\n",
    "\n",
    "plt.subplot(235)\n",
    "plt.title('Observed Data')\n",
    "im = plt.imshow(Y_matrix,cmap='jet')\n",
    "plt.colorbar(im,fraction=0.046, pad=0.04)\n",
    "\n",
    "plt.subplot(236)\n",
    "plt.title('Var Latent field HMCAO')\n",
    "im = plt.imshow(particles_all[str(ngrid**2)][:,0,:].var(axis=0).reshape(ngrid, ngrid),cmap='jet')\n",
    "plt.colorbar(im,fraction=0.046, pad=0.04)\n",
    "\n",
    "\n",
    "\n",
    "\n",
    "#plt.subplot(233)\n",
    "#plt.title('True latent field')\n",
    "#im = plt.imshow(X_matrix,cmap='jet')\n",
    "#plt.colorbar(im,fraction=0.046, pad=0.04)\n",
    "\n",
    "\n",
    "\n",
    "plt.savefig('log_cox_model_dim_%s.png'%(dim))\n",
    "plt.show()\n"
   ]
  },
  {
   "cell_type": "code",
   "execution_count": 21,
   "metadata": {},
   "outputs": [
    {
     "data": {
      "text/plain": [
       "array([40.53709751, 11.95418946,  8.22999216])"
      ]
     },
     "execution_count": 21,
     "metadata": {},
     "output_type": "execute_result"
    }
   ],
   "source": [
    "(norm_const.var(axis=0)*computational_load.mean(axis=0))[:,0]"
   ]
  },
  {
   "cell_type": "code",
   "execution_count": 17,
   "metadata": {},
   "outputs": [
    {
     "name": "stdout",
     "output_type": "stream",
     "text": [
      "\\begin{tabular}{llll}\n",
      "\\hline\n",
      "      &       &        &       \\\\\n",
      "\\hline\n",
      " Dim  & HMCAO & HMCAFT & MALA  \\\\\n",
      " 100  & 1.0   & 0.295  & 0.203 \\\\\n",
      " 400  & 1.0   & 0.137  & 0.298 \\\\\n",
      " 900  & 1.0   & 0.187  & 0.337 \\\\\n",
      " 1600 & 1.0   & 0.137  & 0.584 \\\\\n",
      "\\hline\n",
      "\\end{tabular}\n"
     ]
    }
   ],
   "source": [
    "from tabulate import tabulate\n",
    "\n",
    "datadim100 = (norm_const.var(axis=0)*computational_load.mean(axis=0))[:,0]\n",
    "datadim100 = np.round(datadim100/datadim100[0], decimals=3)\n",
    "\n",
    "datadim400 = (norm_const.var(axis=0)*computational_load.mean(axis=0))[:,1]\n",
    "datadim400 = np.round(datadim400/datadim400[0], decimals=3)\n",
    "\n",
    "datadim900 = (norm_const.var(axis=0)*computational_load.mean(axis=0))[:,2]\n",
    "datadim900 = np.round(datadim900/datadim900[0], decimals=3)\n",
    "\n",
    "datadim1600 = (norm_const.var(axis=0)*computational_load.mean(axis=0))[:,3]\n",
    "datadim1600 = np.round(datadim1600/datadim1600[0], decimals=3)\n",
    "\n",
    "\n",
    "#datadim400 =  np.round(((norm_const.var(axis=0)*computational_load.mean(axis=0))[:,1]), decimals=3).flatten()\n",
    "#datadim900 =  np.round(((norm_const.var(axis=0)*computational_load.mean(axis=0))[:,2]), decimals=3).flatten()\n",
    "\n",
    "\n",
    "first_line = ['Dim']+names_prop\n",
    "second_line = [100]+datadim100.tolist()\n",
    "third_line = [400]+datadim400.tolist()\n",
    "fourth_line = [900]+datadim900.tolist()\n",
    "fith_line = [1600]+datadim1600.tolist()\n",
    "data = [first_line, second_line, third_line, fourth_line, fith_line]\n",
    "header = [\"\", '', '']\n",
    "print(tabulate(data, header, tablefmt=\"latex\", floatfmt=\".2f\"))\n"
   ]
  }
 ],
 "metadata": {
  "kernelspec": {
   "display_name": "Python 2",
   "language": "python",
   "name": "python2"
  },
  "language_info": {
   "codemirror_mode": {
    "name": "ipython",
    "version": 2
   },
   "file_extension": ".py",
   "mimetype": "text/x-python",
   "name": "python",
   "nbconvert_exporter": "python",
   "pygments_lexer": "ipython2",
   "version": "2.7.12"
  }
 },
 "nbformat": 4,
 "nbformat_minor": 2
}
