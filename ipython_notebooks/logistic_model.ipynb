{
 "cells": [
  {
   "cell_type": "markdown",
   "metadata": {},
   "source": [
    "## Tempering from a normal distribution towards the posterior of a logistic regression\n",
    "This notebook implements the tempering towards a logistic posterior\n"
   ]
  },
  {
   "cell_type": "code",
   "execution_count": 1,
   "metadata": {},
   "outputs": [],
   "source": [
    "import numpy as np\n",
    "import numexpr as ne\n",
    "from numba import jit\n",
    "from matplotlib import pyplot as plt\n",
    "import sys\n",
    "sys.path.append(\"/home/alex/Dropbox/smc_hmc/python_smchmc/\")\n",
    "sys.path.append(\"/home/alex/Dropbox/smc_hmc/python_smchmc/smc_sampler_functions\")\n",
    "sys.path.append(\"/home/alex/Dropbox/smc_hmc/python_smchmc/smc_sampler_functions/data\")\n"
   ]
  },
  {
   "cell_type": "markdown",
   "metadata": {},
   "source": [
    "Specify dimension"
   ]
  },
  {
   "cell_type": "code",
   "execution_count": 4,
   "metadata": {},
   "outputs": [],
   "source": [
    "dim = 5\n",
    "import os\n",
    "os.chdir('/home/alex/Dropbox/smc_hmc/python_smchmc/')"
   ]
  },
  {
   "cell_type": "markdown",
   "metadata": {},
   "source": [
    "Defining the sampler parameters"
   ]
  },
  {
   "cell_type": "code",
   "execution_count": 6,
   "metadata": {},
   "outputs": [],
   "source": [
    "N_particles = 2**11\n",
    "T_time = 20\n",
    "move_steps_hmc = 20\n",
    "move_steps_rw_mala = 200\n",
    "ESStarget = 0.9\n",
    "M_num_repetions = 10\n",
    "epsilon = .1\n",
    "epsilon_hmc = .1\n",
    "verbose = False\n",
    "targetmean = np.ones(dim)*2.\n",
    "targetvariance = (0.1*(np.diag(np.linspace(start=0.01, stop=100, num=dim))/float(dim) +0.7*np.ones((dim, dim))))\n",
    "targetvariance_inv = np.linalg.inv(targetvariance)\n",
    "l_targetvariance_inv = np.linalg.cholesky(targetvariance_inv)\n",
    "factor_variance = 1.\n",
    "parameters = {'dim' : dim, \n",
    "              'N_particles' : N_particles, \n",
    "              'factor_variance': factor_variance,\n",
    "             }\n",
    "\n",
    "from smc_sampler_functions.functions_smc_help import sequence_distributions\n",
    "from smc_sampler_functions.proposal_kernels import proposalmala, proposalrw, proposalhmc, proposalhmc_parallel\n",
    "from smc_sampler_functions.functions_smc_main import smc_sampler\n",
    "maladict = {'proposalkernel_tune': proposalmala,\n",
    "                      'proposalkernel_sample': proposalmala,\n",
    "                      'proposalname' : 'MALA',\n",
    "                      'target_probability' : 0.65,\n",
    "                      'covariance_matrix' : np.eye(dim), \n",
    "                      'L_max' : 1,\n",
    "                      'epsilon' : np.array([epsilon]),\n",
    "                      'epsilon_max' : np.array([epsilon]),\n",
    "                      'tune_kernel': 'ours_simple',\n",
    "                      'sample_eps_L' : True,\n",
    "                      'verbose' : verbose,\n",
    "                      'move_steps': move_steps_rw_mala,\n",
    "                      'T_time' : T_time,\n",
    "                      'autotempering' : True,\n",
    "                      'ESStarget': ESStarget,\n",
    "                      'adaptive_covariance' : True,\n",
    "                      'quantile_test': 0.2\n",
    "                      }\n",
    "\n",
    "rwdict = {'proposalkernel_tune': proposalrw,\n",
    "                      'proposalkernel_sample': proposalrw,\n",
    "                      'proposalname' : 'RW',\n",
    "                      'target_probability' : 0.3,\n",
    "                      'covariance_matrix' : np.eye(dim), \n",
    "                      'L_max' : 1,\n",
    "                      'epsilon' : np.array([epsilon]),\n",
    "                      'epsilon_max' : np.array([epsilon]),\n",
    "                      'tune_kernel': 'ours_simple',\n",
    "                      'sample_eps_L' : True,\n",
    "                      'verbose' : verbose,\n",
    "                      'move_steps': move_steps_rw_mala,\n",
    "                      'T_time' : T_time,\n",
    "                      'autotempering' : True,\n",
    "                      'ESStarget': ESStarget,\n",
    "                      'adaptive_covariance' : True,\n",
    "                      'quantile_test': 0.2\n",
    "                      }\n",
    "\n",
    "hmcdict_adaptive = {'proposalkernel_tune': proposalhmc,\n",
    "                      'proposalkernel_sample': proposalhmc_parallel,\n",
    "                      'proposalname' : 'HMC_L_random_ft_adaptive',\n",
    "                      'target_probability' : 0.9,\n",
    "                      'covariance_matrix' : np.eye(dim), \n",
    "                      'L_max' : 50,\n",
    "                      'epsilon' : np.array([epsilon_hmc]),\n",
    "                      'epsilon_max' : np.array([epsilon_hmc]),\n",
    "                      'accept_reject' : True,\n",
    "                      'tune_kernel': 'fearnhead_taylor',\n",
    "                      'sample_eps_L' : True,\n",
    "                      'parallelize' : False,\n",
    "                      'verbose' : verbose,\n",
    "                      'move_steps': move_steps_hmc, \n",
    "                      'mean_L' : False,\n",
    "                      'T_time' : T_time,\n",
    "                      'autotempering' : True,\n",
    "                      'ESStarget': ESStarget,\n",
    "                      'adaptive_covariance' : True,\n",
    "                      'quantile_test': 0.2\n",
    "                      }\n",
    "\n",
    "\n",
    "\n",
    "from smc_sampler_functions.functions_smc_main import repeat_sampling\n",
    "from smc_sampler_functions.target_distributions import priorlogdens, priorgradlogdens, priorsampler\n",
    "from smc_sampler_functions.target_distributions import targetlogdens_normal, targetgradlogdens_normal\n",
    "#from smc_sampler_functions.target_distributions import targetlogdens_student, targetgradlogdens_student\n",
    "from smc_sampler_functions.target_distributions import targetlogdens_probit, targetgradlogdens_probit, f_dict_logistic_regression\n",
    "from smc_sampler_functions.target_distributions import targetlogdens_logistic, targetgradlogdens_logistic, f_dict_logistic_regression\n",
    "parameters_logistic = f_dict_logistic_regression(dim)#, load_mean_var=True, model_type='logistic')\n",
    "#import ipdb; ipdb.set_trace()\n",
    "parameters.update(parameters_logistic)\n",
    "\n",
    "\n",
    "priordistribution = {'logdensity' : priorlogdens, 'gradlogdensity' : priorgradlogdens, 'priorsampler': priorsampler}\n",
    "#targetdistribution = {'logdensity' : targetlogdens_normal, 'gradlogdensity' : targetgradlogdens_normal, 'target_name': 'normal'}\n",
    "targetdistribution = {'logdensity' : targetlogdens_logistic, 'gradlogdensity' : targetgradlogdens_logistic, 'target_name': 'logistic'}\n",
    "#targetdistribution = {'logdensity' : targetlogdens_student, 'gradlogdensity' : targetgradlogdens_student, 'target_name': 'student'}\n",
    "samplers_list_dict = [hmcdict_adaptive, rwdict, maladict]\n",
    "\n",
    "\n",
    "temperedist = sequence_distributions(parameters, priordistribution, targetdistribution)\n",
    "\n",
    "\n",
    "\n",
    "\n",
    "\n"
   ]
  },
  {
   "cell_type": "code",
   "execution_count": null,
   "metadata": {},
   "outputs": [],
   "source": []
  },
  {
   "cell_type": "code",
   "execution_count": null,
   "metadata": {},
   "outputs": [],
   "source": []
  },
  {
   "cell_type": "code",
   "execution_count": 7,
   "metadata": {},
   "outputs": [
    {
     "name": "stdout",
     "output_type": "stream",
     "text": [
      "repetition 0 of 10\n",
      "Now runing smc sampler with HMC_L_random_ft_adaptive kernel\n",
      "Sampler ended at time 23 after 6.94200992584 seconds \n",
      "\n",
      "Now runing smc sampler with RW kernel\n",
      "Sampler ended at time 833 after 24.1329059601 seconds \n",
      "\n",
      "Now runing smc sampler with MALA kernel\n"
     ]
    },
    {
     "ename": "KeyboardInterrupt",
     "evalue": "",
     "output_type": "error",
     "traceback": [
      "\u001b[0;31m---------------------------------------------------------------------------\u001b[0m",
      "\u001b[0;31mKeyboardInterrupt\u001b[0m                         Traceback (most recent call last)",
      "\u001b[0;32m<ipython-input-7-2d451d2b1ffa>\u001b[0m in \u001b[0;36m<module>\u001b[0;34m()\u001b[0m\n\u001b[0;32m----> 1\u001b[0;31m \u001b[0mres_repeated_sampling\u001b[0m\u001b[0;34m,\u001b[0m \u001b[0mres_first_iteration\u001b[0m \u001b[0;34m=\u001b[0m \u001b[0mrepeat_sampling\u001b[0m\u001b[0;34m(\u001b[0m\u001b[0msamplers_list_dict\u001b[0m\u001b[0;34m,\u001b[0m \u001b[0mtemperedist\u001b[0m\u001b[0;34m,\u001b[0m  \u001b[0mparameters\u001b[0m\u001b[0;34m,\u001b[0m \u001b[0mM_num_repetions\u001b[0m\u001b[0;34m=\u001b[0m\u001b[0mM_num_repetions\u001b[0m\u001b[0;34m,\u001b[0m \u001b[0msave_res\u001b[0m\u001b[0;34m=\u001b[0m\u001b[0mFalse\u001b[0m\u001b[0;34m,\u001b[0m \u001b[0msave_name\u001b[0m \u001b[0;34m=\u001b[0m \u001b[0;34m''\u001b[0m\u001b[0;34m)\u001b[0m\u001b[0;34m\u001b[0m\u001b[0m\n\u001b[0m",
      "\u001b[0;32m/home/alex/Dropbox/smc_hmc/python_smchmc/smc_sampler_functions/functions_smc_main.pyc\u001b[0m in \u001b[0;36mrepeat_sampling\u001b[0;34m(samplers_list_dict, temperedist, parameters, M_num_repetions, save_res, save_res_intermediate, save_name, seed)\u001b[0m\n\u001b[1;32m    314\u001b[0m         \u001b[0;32mprint\u001b[0m\u001b[0;34m(\u001b[0m\u001b[0;34m\"repetition %s of %s\"\u001b[0m \u001b[0;34m%\u001b[0m\u001b[0;34m(\u001b[0m\u001b[0mm_repetition\u001b[0m\u001b[0;34m,\u001b[0m \u001b[0mM_num_repetions\u001b[0m\u001b[0;34m)\u001b[0m\u001b[0;34m,\u001b[0m \u001b[0mend\u001b[0m\u001b[0;34m=\u001b[0m\u001b[0;34m'\\n'\u001b[0m\u001b[0;34m)\u001b[0m\u001b[0;34m\u001b[0m\u001b[0m\n\u001b[1;32m    315\u001b[0m         \u001b[0;32mfor\u001b[0m \u001b[0mk\u001b[0m\u001b[0;34m,\u001b[0m \u001b[0msampler_dict\u001b[0m \u001b[0;32min\u001b[0m \u001b[0menumerate\u001b[0m\u001b[0;34m(\u001b[0m\u001b[0msamplers_list_dict\u001b[0m\u001b[0;34m)\u001b[0m\u001b[0;34m:\u001b[0m\u001b[0;34m\u001b[0m\u001b[0m\n\u001b[0;32m--> 316\u001b[0;31m             \u001b[0mres_dict\u001b[0m \u001b[0;34m=\u001b[0m \u001b[0msmc_sampler\u001b[0m\u001b[0;34m(\u001b[0m\u001b[0mtemperedist\u001b[0m\u001b[0;34m,\u001b[0m  \u001b[0mparameters\u001b[0m\u001b[0;34m,\u001b[0m \u001b[0msampler_dict\u001b[0m\u001b[0;34m,\u001b[0m \u001b[0mseed\u001b[0m\u001b[0;34m=\u001b[0m\u001b[0mm_repetition\u001b[0m\u001b[0;34m+\u001b[0m\u001b[0mseed\u001b[0m\u001b[0;34m)\u001b[0m\u001b[0;34m\u001b[0m\u001b[0m\n\u001b[0m\u001b[1;32m    317\u001b[0m             \u001b[0;31m# save the first instance\u001b[0m\u001b[0;34m\u001b[0m\u001b[0;34m\u001b[0m\u001b[0m\n\u001b[1;32m    318\u001b[0m             \u001b[0;32mif\u001b[0m \u001b[0mm_repetition\u001b[0m \u001b[0;34m==\u001b[0m \u001b[0;36m0\u001b[0m\u001b[0;34m:\u001b[0m\u001b[0;34m\u001b[0m\u001b[0m\n",
      "\u001b[0;32m/home/alex/Dropbox/smc_hmc/python_smchmc/smc_sampler_functions/functions_smc_main.pyc\u001b[0m in \u001b[0;36msmc_sampler\u001b[0;34m(temperedist, parameters, proposalkerneldict, verbose, seed)\u001b[0m\n\u001b[1;32m    147\u001b[0m                 \u001b[0;32mbreak\u001b[0m\u001b[0;34m\u001b[0m\u001b[0m\n\u001b[1;32m    148\u001b[0m             \u001b[0;32melse\u001b[0m\u001b[0;34m:\u001b[0m\u001b[0;34m\u001b[0m\u001b[0m\n\u001b[0;32m--> 149\u001b[0;31m                 \u001b[0mparticles\u001b[0m\u001b[0;34m,\u001b[0m \u001b[0m__\u001b[0m \u001b[0;34m=\u001b[0m \u001b[0mproposalkernel_sample\u001b[0m\u001b[0;34m(\u001b[0m\u001b[0mparticles\u001b[0m\u001b[0;34m,\u001b[0m \u001b[0mproposalkerneldict_temp\u001b[0m\u001b[0;34m,\u001b[0m \u001b[0mtemperedist\u001b[0m\u001b[0;34m,\u001b[0m \u001b[0mtemp_curr\u001b[0m\u001b[0;34m)\u001b[0m\u001b[0;34m\u001b[0m\u001b[0m\n\u001b[0m\u001b[1;32m    150\u001b[0m                 \u001b[0msummary_particles_list\u001b[0m\u001b[0;34m.\u001b[0m\u001b[0mappend\u001b[0m\u001b[0;34m(\u001b[0m\u001b[0mparticles\u001b[0m\u001b[0;34m)\u001b[0m\u001b[0;34m\u001b[0m\u001b[0m\n\u001b[1;32m    151\u001b[0m                 \u001b[0mtemp_list\u001b[0m\u001b[0;34m.\u001b[0m\u001b[0mappend\u001b[0m\u001b[0;34m(\u001b[0m\u001b[0mtemp_curr\u001b[0m\u001b[0;34m)\u001b[0m\u001b[0;34m\u001b[0m\u001b[0m\n",
      "\u001b[0;32m/home/alex/Dropbox/smc_hmc/python_smchmc/smc_sampler_functions/proposal_kernels.pyc\u001b[0m in \u001b[0;36mproposalmala\u001b[0;34m(particles, parametersmcmc, temperedist, temperature)\u001b[0m\n\u001b[1;32m     94\u001b[0m     \u001b[0mmu_reversed\u001b[0m \u001b[0;34m=\u001b[0m \u001b[0mparticles_proposed\u001b[0m\u001b[0;34m+\u001b[0m\u001b[0;36m0.5\u001b[0m\u001b[0;34m*\u001b[0m\u001b[0mepsilon\u001b[0m\u001b[0;34m**\u001b[0m\u001b[0;36m2\u001b[0m\u001b[0;34m*\u001b[0m\u001b[0mtemperedist\u001b[0m\u001b[0;34m.\u001b[0m\u001b[0mgradlogdensity\u001b[0m\u001b[0;34m(\u001b[0m\u001b[0mparticles_proposed\u001b[0m\u001b[0;34m,\u001b[0m \u001b[0mtemperature\u001b[0m\u001b[0;34m=\u001b[0m\u001b[0mtemperature\u001b[0m\u001b[0;34m)\u001b[0m\u001b[0;34m.\u001b[0m\u001b[0mdot\u001b[0m\u001b[0;34m(\u001b[0m\u001b[0mcovariance_matrix\u001b[0m\u001b[0;34m)\u001b[0m\u001b[0;34m\u001b[0m\u001b[0m\n\u001b[1;32m     95\u001b[0m \u001b[0;34m\u001b[0m\u001b[0m\n\u001b[0;32m---> 96\u001b[0;31m     \u001b[0mweights_numerator1\u001b[0m \u001b[0;34m=\u001b[0m \u001b[0mtemperedist\u001b[0m\u001b[0;34m.\u001b[0m\u001b[0mlogdensity\u001b[0m\u001b[0;34m(\u001b[0m\u001b[0mparticles_proposed\u001b[0m\u001b[0;34m,\u001b[0m \u001b[0mtemperature\u001b[0m\u001b[0;34m=\u001b[0m\u001b[0mtemperature\u001b[0m\u001b[0;34m)\u001b[0m\u001b[0;34m\u001b[0m\u001b[0m\n\u001b[0m\u001b[1;32m     97\u001b[0m     \u001b[0mweights_numerator2\u001b[0m \u001b[0;34m=\u001b[0m \u001b[0mmultivariate_normal\u001b[0m\u001b[0;34m.\u001b[0m\u001b[0mlogpdf\u001b[0m\u001b[0;34m(\u001b[0m\u001b[0;34m(\u001b[0m\u001b[0mmu_reversed\u001b[0m\u001b[0;34m-\u001b[0m\u001b[0mparticles\u001b[0m\u001b[0;34m)\u001b[0m\u001b[0;34m.\u001b[0m\u001b[0mdot\u001b[0m\u001b[0;34m(\u001b[0m\u001b[0ml_matrix_inv\u001b[0m\u001b[0;34m)\u001b[0m\u001b[0;34m/\u001b[0m\u001b[0mepsilon\u001b[0m\u001b[0;34m,\u001b[0m \u001b[0mcov\u001b[0m\u001b[0;34m=\u001b[0m\u001b[0mnp\u001b[0m\u001b[0;34m.\u001b[0m\u001b[0meye\u001b[0m\u001b[0;34m(\u001b[0m\u001b[0mdim\u001b[0m\u001b[0;34m)\u001b[0m\u001b[0;34m)\u001b[0m\u001b[0;34m\u001b[0m\u001b[0m\n\u001b[1;32m     98\u001b[0m     \u001b[0mweights_numerator\u001b[0m \u001b[0;34m=\u001b[0m \u001b[0mweights_numerator1\u001b[0m\u001b[0;34m+\u001b[0m\u001b[0mweights_numerator2\u001b[0m\u001b[0;34m\u001b[0m\u001b[0m\n",
      "\u001b[0;32m/home/alex/Dropbox/smc_hmc/python_smchmc/smc_sampler_functions/functions_smc_help.pyc\u001b[0m in \u001b[0;36mlogdensity\u001b[0;34m(self, particles, temperature)\u001b[0m\n\u001b[1;32m     48\u001b[0m         \u001b[0;32massert\u001b[0m \u001b[0mtemperature\u001b[0m\u001b[0;34m>=\u001b[0m\u001b[0;36m0.\u001b[0m\u001b[0;34m\u001b[0m\u001b[0m\n\u001b[1;32m     49\u001b[0m         \u001b[0;31m#import ipdb; ipdb.set_trace()\u001b[0m\u001b[0;34m\u001b[0m\u001b[0;34m\u001b[0m\u001b[0m\n\u001b[0;32m---> 50\u001b[0;31m         \u001b[0;32mreturn\u001b[0m \u001b[0;34m(\u001b[0m\u001b[0mself\u001b[0m\u001b[0;34m.\u001b[0m\u001b[0mtargetlogdens\u001b[0m\u001b[0;34m(\u001b[0m\u001b[0mparticles\u001b[0m\u001b[0;34m,\u001b[0m \u001b[0mself\u001b[0m\u001b[0;34m.\u001b[0m\u001b[0mparameters\u001b[0m\u001b[0;34m)\u001b[0m\u001b[0;34m*\u001b[0m\u001b[0mtemperature\u001b[0m\u001b[0;34m)\u001b[0m\u001b[0;34m+\u001b[0m\u001b[0mself\u001b[0m\u001b[0;34m.\u001b[0m\u001b[0mpriorlogdens\u001b[0m\u001b[0;34m(\u001b[0m\u001b[0mparticles\u001b[0m\u001b[0;34m,\u001b[0m \u001b[0mself\u001b[0m\u001b[0;34m.\u001b[0m\u001b[0mparameters\u001b[0m\u001b[0;34m)\u001b[0m\u001b[0;34m*\u001b[0m\u001b[0;34m(\u001b[0m\u001b[0;36m1.\u001b[0m\u001b[0;34m-\u001b[0m\u001b[0mtemperature\u001b[0m\u001b[0;34m)\u001b[0m\u001b[0;34m\u001b[0m\u001b[0m\n\u001b[0m\u001b[1;32m     51\u001b[0m \u001b[0;34m\u001b[0m\u001b[0m\n\u001b[1;32m     52\u001b[0m     \u001b[0;32mdef\u001b[0m \u001b[0mprecalc_logdensity\u001b[0m\u001b[0;34m(\u001b[0m\u001b[0mself\u001b[0m\u001b[0;34m,\u001b[0m \u001b[0mparticles\u001b[0m\u001b[0;34m)\u001b[0m\u001b[0;34m:\u001b[0m\u001b[0;34m\u001b[0m\u001b[0m\n",
      "\u001b[0;32m/home/alex/Dropbox/smc_hmc/python_smchmc/smc_sampler_functions/target_distributions.pyc\u001b[0m in \u001b[0;36mtargetlogdens_logistic\u001b[0;34m(particles, parameters)\u001b[0m\n\u001b[1;32m    342\u001b[0m \u001b[0;34m\u001b[0m\u001b[0m\n\u001b[1;32m    343\u001b[0m \u001b[0;32mdef\u001b[0m \u001b[0mtargetlogdens_logistic\u001b[0m\u001b[0;34m(\u001b[0m\u001b[0mparticles\u001b[0m\u001b[0;34m,\u001b[0m \u001b[0mparameters\u001b[0m\u001b[0;34m)\u001b[0m\u001b[0;34m:\u001b[0m\u001b[0;34m\u001b[0m\u001b[0m\n\u001b[0;32m--> 344\u001b[0;31m     \u001b[0;32mreturn\u001b[0m \u001b[0mtargetlogdens_logistic_help\u001b[0m\u001b[0;34m(\u001b[0m\u001b[0mparticles\u001b[0m\u001b[0;34m,\u001b[0m \u001b[0mparameters\u001b[0m\u001b[0;34m[\u001b[0m\u001b[0;34m'X_all'\u001b[0m\u001b[0;34m]\u001b[0m\u001b[0;34m,\u001b[0m \u001b[0mparameters\u001b[0m\u001b[0;34m[\u001b[0m\u001b[0;34m'y_all'\u001b[0m\u001b[0;34m]\u001b[0m\u001b[0;34m)\u001b[0m\u001b[0;34m\u001b[0m\u001b[0m\n\u001b[0m\u001b[1;32m    345\u001b[0m \u001b[0;34m\u001b[0m\u001b[0m\n\u001b[1;32m    346\u001b[0m \u001b[0;31m#\u001b[0m\u001b[0;34m\u001b[0m\u001b[0;34m\u001b[0m\u001b[0m\n",
      "\u001b[0;32m/home/alex/Dropbox/smc_hmc/python_smchmc/smc_sampler_functions/target_distributions.pyc\u001b[0m in \u001b[0;36mtargetlogdens_logistic_help\u001b[0;34m(particles, X, y)\u001b[0m\n\u001b[1;32m    297\u001b[0m     \u001b[0;31m#sigmoid_value1 = logexp(dot_product)\u001b[0m\u001b[0;34m\u001b[0m\u001b[0;34m\u001b[0m\u001b[0m\n\u001b[1;32m    298\u001b[0m \u001b[0;34m\u001b[0m\u001b[0m\n\u001b[0;32m--> 299\u001b[0;31m     \u001b[0msigmoid_value1\u001b[0m \u001b[0;34m=\u001b[0m \u001b[0mne\u001b[0m\u001b[0;34m.\u001b[0m\u001b[0mevaluate\u001b[0m\u001b[0;34m(\u001b[0m\u001b[0;34m'log(1.+exp(-dot_product))'\u001b[0m\u001b[0;34m)\u001b[0m\u001b[0;34m\u001b[0m\u001b[0m\n\u001b[0m\u001b[1;32m    300\u001b[0m     \u001b[0;31m#sigmoid_value1 = ne.evaluate('log(1+exp(-dot_prod_less_min))')\u001b[0m\u001b[0;34m\u001b[0m\u001b[0;34m\u001b[0m\u001b[0m\n\u001b[1;32m    301\u001b[0m     \u001b[0;31m# likelihood_value = (-y*sigmoid_value1 - (1-y)*(dot_product+sigmoid_value1)).sum(axis=0)\u001b[0m\u001b[0;34m\u001b[0m\u001b[0;34m\u001b[0m\u001b[0m\n",
      "\u001b[0;32m/usr/lib/python2.7/dist-packages/numexpr/necompiler.pyc\u001b[0m in \u001b[0;36mevaluate\u001b[0;34m(ex, local_dict, global_dict, out, order, casting, **kwargs)\u001b[0m\n\u001b[1;32m    765\u001b[0m     kwargs = {'out': out, 'order': order, 'casting': casting,\n\u001b[1;32m    766\u001b[0m               'ex_uses_vml': ex_uses_vml}\n\u001b[0;32m--> 767\u001b[0;31m     \u001b[0;32mreturn\u001b[0m \u001b[0mcompiled_ex\u001b[0m\u001b[0;34m(\u001b[0m\u001b[0;34m*\u001b[0m\u001b[0marguments\u001b[0m\u001b[0;34m,\u001b[0m \u001b[0;34m**\u001b[0m\u001b[0mkwargs\u001b[0m\u001b[0;34m)\u001b[0m\u001b[0;34m\u001b[0m\u001b[0m\n\u001b[0m",
      "\u001b[0;31mKeyboardInterrupt\u001b[0m: "
     ]
    }
   ],
   "source": [
    "res_repeated_sampling, res_first_iteration = repeat_sampling(samplers_list_dict, temperedist,  parameters, M_num_repetions=M_num_repetions, save_res=False, save_name = '')"
   ]
  },
  {
   "cell_type": "code",
   "execution_count": null,
   "metadata": {},
   "outputs": [],
   "source": [
    "from smc_sampler_functions.functions_smc_plotting import plot_repeated_simulations, plot_results_single_simulation\n",
    "plot_repeated_simulations(res_repeated_sampling)\n",
    "plot_results_single_simulation(res_first_iteration)\n"
   ]
  },
  {
   "cell_type": "code",
   "execution_count": null,
   "metadata": {},
   "outputs": [],
   "source": [
    "print(np.log(res_repeated_sampling['mean_array'].var(axis=1).sum(axis=1)))\n",
    "res_repeated_sampling['names_samplers']"
   ]
  },
  {
   "cell_type": "code",
   "execution_count": null,
   "metadata": {},
   "outputs": [],
   "source": [
    "res_first_iteration[0]['epsilon_mean']"
   ]
  },
  {
   "cell_type": "code",
   "execution_count": null,
   "metadata": {},
   "outputs": [],
   "source": [
    "from smc_sampler_functions import standard_mh_sampler\n",
    "parameters_mh = {'dim' : dim, \n",
    "              'N_particles' : 50, \n",
    "              'factor_variance': factor_variance,\n",
    "              'T_time' : 2000\n",
    "             }\n",
    "import copy\n",
    "maladict_mh = copy.copy(maladict)\n",
    "maladict_mh['epsilon'] = np.array([0.3])\n",
    "res_dict = standard_mh_sampler.parallel_mh_sampler(temperedist, proposalkerneldict=maladict_mh, parameters=parameters_mh)"
   ]
  },
  {
   "cell_type": "code",
   "execution_count": null,
   "metadata": {},
   "outputs": [],
   "source": [
    "print res_dict['acceptance_rate']\n",
    "res_dict['particles'][:,:,1000:].mean(axis=2).mean(axis=0)-res_repeated_sampling['mean_array'][2,0,:]"
   ]
  },
  {
   "cell_type": "code",
   "execution_count": null,
   "metadata": {},
   "outputs": [],
   "source": [
    "from scipy.optimize import minimize\n",
    "from functools import partial\n",
    "partial_target_max = partial(targetlogdens_logistic, parameters=parameters_logistic) \n",
    "def partial_target(x):\n",
    "    return(partial_target_max(x)*-1)\n",
    "x0 = np.ones((1,dim))*1\n",
    "print(partial_target_max(x0))\n",
    "targetlogdens_logistic(x0, parameters_logistic)\n",
    "res = minimize(partial_target, x0, method='nelder-mead', options={'xtol': 1e-8, 'disp': True})\n",
    "print(res.x)\n"
   ]
  },
  {
   "cell_type": "code",
   "execution_count": null,
   "metadata": {},
   "outputs": [],
   "source": [
    "it = 0\n",
    "plt.scatter(x=res_first_iteration[it]['particles_resampled'][:,0], y=res_first_iteration[it]['particles_resampled'][:,1])\n",
    "plt.show()\n",
    "from sklearn.linear_model import LogisticRegression\n",
    "log_reg = LogisticRegression(fit_intercept =  False)\n",
    "log_reg.fit(parameters_logistic['X_all'], parameters_logistic['y_all'])\n",
    "log_reg.get_params()\n",
    "print(log_reg.coef_)\n",
    "print(res_first_iteration[0]['particles_resampled'].mean(axis=0))\n",
    "#print(res_first_iteration[1]['particles_resampled'].mean(axis=0))\n",
    "#print(res_first_iteration[2]['particles_resampled'].mean(axis=0))\n",
    "#print(np.percentile(res_first_iteration[0]['particles_resampled'], 50., axis=0))"
   ]
  },
  {
   "cell_type": "code",
   "execution_count": null,
   "metadata": {},
   "outputs": [],
   "source": [
    "# import bayes_logistic\n",
    "import bayes_logistic as bl\n",
    "p = parameters_logistic['X_all'].shape[1]\n",
    "X1 = parameters_logistic['X_all']\n",
    "y1 = parameters_logistic['y_all'][:,0]\n",
    "w_prior = np.zeros(p)\n",
    "H_prior = np.diag(np.ones(p))\n",
    "\n",
    "#----------------------------------------------------------------------------------------\n",
    "# randomly permute the data\n",
    "\n",
    "#----------------------------------------------------------------------------------------\n",
    "# Do a bayesian fit with this random sample\n",
    "# The default uses a full Hessian matrix and a Newton's conjugate gradient solver\n",
    "w_posterior, H_posterior = bl.fit_bayes_logistic(y1, X1, w_prior, H_prior)\n",
    "print w_posterior\n",
    "#print (res_first_iteration[0]['particles_resampled'].var(axis=0))\n",
    "print 1./np.diag(H_posterior)"
   ]
  },
  {
   "cell_type": "code",
   "execution_count": null,
   "metadata": {},
   "outputs": [],
   "source": [
    "# sample from the laplace approximation to get the normalizing constant\n",
    "from scipy.stats import multivariate_normal\n",
    "w_posterior\n",
    "L_posterior = np.linalg.cholesky(H_posterior)\n",
    "H_posterior_inv = np.linalg.inv(H_posterior)\n",
    "N_samples = 10**6\n",
    "samples = np.random.multivariate_normal(mean=w_posterior, cov=H_posterior_inv, size=N_samples)\n",
    "logweight_proposal = multivariate_normal.logpdf(samples, mean=w_posterior, cov=H_posterior_inv)\n",
    "logweight_target = temperedist.logdensity(samples, temperature=1.)\n",
    "\n",
    "samples.shape\n",
    "\n",
    "diff = logweight_target - logweight_proposal\n",
    "a_max = (diff).max()\n",
    "logweights = diff - a_max - np.log(np.exp(diff-a_max).sum())\n",
    "print (((np.exp(logweights)).sum()**2/(np.exp(logweights)**2).sum()))/N_samples\n",
    "print np.log(np.exp(diff).mean()), sum(res_first_iteration[0]['Z_list'])\n",
    "res_repeated_sampling['norm_const'].mean(axis=1)"
   ]
  },
  {
   "cell_type": "code",
   "execution_count": null,
   "metadata": {},
   "outputs": [],
   "source": [
    "# importance sampling\n",
    "(samples*np.exp(diff)[:,np.newaxis]).sum(axis=0)/np.exp(diff).sum(axis=0)\n"
   ]
  }
 ],
 "metadata": {
  "kernelspec": {
   "display_name": "Python 2",
   "language": "python",
   "name": "python2"
  },
  "language_info": {
   "codemirror_mode": {
    "name": "ipython",
    "version": 2
   },
   "file_extension": ".py",
   "mimetype": "text/x-python",
   "name": "python",
   "nbconvert_exporter": "python",
   "pygments_lexer": "ipython2",
   "version": "2.7.12"
  }
 },
 "nbformat": 4,
 "nbformat_minor": 2
}
