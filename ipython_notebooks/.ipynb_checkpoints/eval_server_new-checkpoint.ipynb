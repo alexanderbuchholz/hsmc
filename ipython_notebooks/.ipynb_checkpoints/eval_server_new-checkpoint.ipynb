{
 "cells": [
  {
   "cell_type": "code",
   "execution_count": 1,
   "metadata": {
    "collapsed": false
   },
   "outputs": [
    {
     "name": "stderr",
     "output_type": "stream",
     "text": [
      "/usr/local/lib/python2.7/dist-packages/pandas/core/computation/__init__.py:18: UserWarning: The installed version of numexpr 2.4.3 is not supported in pandas and will be not be used\n",
      "The minimum supported version is 2.4.6\n",
      "\n",
      "  ver=ver, min_ver=_MIN_NUMEXPR_VERSION), UserWarning)\n"
     ]
    },
    {
     "name": "stdout",
     "output_type": "stream",
     "text": [
      "['normal_mix_normal_mix_all_dict_sampler_dim_50.p', 'normal_mix_normal_mix_all_dict_sampler_dim_100.p', 'normal_mix_normal_mix_all_dict_sampler_dim_10.p', 'normal_mix_normal_mix_all_dict_sampler_dim_20.p']\n"
     ]
    }
   ],
   "source": [
    "import pandas as pd\n",
    "import numpy as np\n",
    "import pickle\n",
    "import os\n",
    "from matplotlib import pyplot as plt\n",
    "\n",
    "#path = os.getcwd()\n",
    "#path = path.replace(\"/ipython_notebooks\",\"\")\n",
    "path = \"/home/alex/inter_simulation_results/hsmc_harvard/normal_mix_results\"\n",
    "os.chdir(path)\n",
    "model_name = 'normal_mix'\n",
    "names_files_list = os.listdir(path)\n",
    "print(names_files_list)\n"
   ]
  },
  {
   "cell_type": "code",
   "execution_count": 6,
   "metadata": {
    "collapsed": true
   },
   "outputs": [],
   "source": [
    "# workaround for pickle and pandas error\n",
    "import sys\n",
    "# 1\n",
    "import pandas.core.indexes \n",
    "sys.modules['pandas.indexes'] = pandas.core.indexes\n",
    "# 2\n",
    "import pandas.core.base, pandas.core.indexes.frozen\n",
    "setattr(sys.modules['pandas.core.base'],'FrozenNDArray', pandas.core.indexes.frozen.FrozenNDArray)\n"
   ]
  },
  {
   "cell_type": "code",
   "execution_count": 5,
   "metadata": {
    "collapsed": false
   },
   "outputs": [
    {
     "data": {
      "text/plain": [
       "'$Revision: 72223 $'"
      ]
     },
     "execution_count": 5,
     "metadata": {},
     "output_type": "execute_result"
    }
   ],
   "source": [
    "pd.__version__\n",
    "pickle.__version__\n",
    "#mh_res = pickle.load(file=open('%s_%s_all_dict_sampler_dim_10.p' %(model_name, model_name), \"rb\")) "
   ]
  },
  {
   "cell_type": "code",
   "execution_count": 7,
   "metadata": {
    "collapsed": false
   },
   "outputs": [],
   "source": [
    "#dimensions = [2, 5, 10, 20, 31, 50, 100]\n",
    "dimensions = [10, 20, 50, 100]\n",
    "means_list = []\n",
    "vars_list = []\n",
    "norms_list = []\n",
    "computation_list = []\n",
    "zero_one_list = []\n",
    "\n",
    "for dim in dimensions:\n",
    "    mh_res = pickle.load(file=open('%s_%s_all_dict_sampler_dim_%s.p' %(model_name, model_name, dim), \"rb\"))\n",
    "    if False: \n",
    "        is_res = pickle.load(file=open('%s_%s_all_dict_is_sampler_dim_%s.p'%(model_name, model_name, dim), \"rb\"))\n",
    "\n",
    "        res_all_norm = np.vstack((mh_res['norm_const'], is_res['norm_const']))\n",
    "        res_all_mean = np.vstack((mh_res['mean_array'], is_res['mean_array']))\n",
    "        res_all_var = np.vstack((mh_res['var_array'], is_res['var_array']))\n",
    "        \n",
    "    else: \n",
    "        res_all_norm = mh_res['norm_const']\n",
    "        res_all_mean = mh_res['mean_array']\n",
    "        res_all_var = mh_res['var_array']\n",
    "        res_all_computation = (mh_res['temp_steps']*mh_res['L_mean']).mean(axis=1)\n",
    "\n",
    "    computation_list.append(res_all_computation)\n",
    "    if model_name == 'normal':\n",
    "        vars_list.append( res_all_computation*np.nanmean((res_all_var-mh_res['parameters']['targetvariance'])**2, axis=1).sum(axis=1).sum(axis=1))\n",
    "        means_list.append(res_all_computation*np.nanmean((res_all_mean-mh_res['parameters']['targetmean'])**2, axis=1).sum(axis=1))\n",
    "        norms_list.append(res_all_computation*np.nanmean((res_all_norm)**2, axis=1))  \n",
    "    elif model_name == 'student':\n",
    "        scale_factor_variance = mh_res['parameters']['df']/(mh_res['parameters']['df']-2)\n",
    "        vars_list.append( res_all_computation*np.nanmean((res_all_var-scale_factor_variance*mh_res['parameters']['targetvariance'])**2, axis=1).sum(axis=1).sum(axis=1))\n",
    "        means_list.append(res_all_computation*np.nanmean((res_all_mean-mh_res['parameters']['targetmean'])**2, axis=1).sum(axis=1))\n",
    "        norms_list.append(res_all_computation*np.nanmean((res_all_norm)**2, axis=1))\n",
    "    #elif model_name == 'logistic': \n",
    "    else: \n",
    "        vars_list.append( res_all_computation*np.nanvar(res_all_var, axis=1).sum(axis=1).sum(axis=1))\n",
    "        means_list.append(res_all_computation*np.nanvar(res_all_mean, axis=1).sum(axis=1))\n",
    "        norms_list.append(res_all_computation*np.nanvar(res_all_norm, axis=1))\n",
    "    \n",
    "    if model_name == 'normal_mix':\n",
    "        res = (((mh_res['particles_array']<0).mean(axis=0).mean(axis=0)-0.5)**2).mean(axis=1)*res_all_computation\n",
    "        zero_one_list.append(res)\n"
   ]
  }
 ],
 "metadata": {
  "kernelspec": {
   "display_name": "Python 2",
   "language": "python",
   "name": "python2"
  },
  "language_info": {
   "codemirror_mode": {
    "name": "ipython",
    "version": 2
   },
   "file_extension": ".py",
   "mimetype": "text/x-python",
   "name": "python",
   "nbconvert_exporter": "python",
   "pygments_lexer": "ipython2",
   "version": "2.7.12"
  }
 },
 "nbformat": 4,
 "nbformat_minor": 2
}
