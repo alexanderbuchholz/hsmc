{
 "cells": [
  {
   "cell_type": "code",
   "execution_count": 177,
   "metadata": {
    "collapsed": false
   },
   "outputs": [
    {
     "name": "stdout",
     "output_type": "stream",
     "text": [
      "The autoreload extension is already loaded. To reload it, use:\n",
      "  %reload_ext autoreload\n"
     ]
    }
   ],
   "source": [
    "# Notebook for smc sampler \n",
    "from __future__ import print_function\n",
    "from __future__ import division\n",
    "from matplotlib import pyplot as plt\n",
    "%load_ext autoreload\n",
    "%autoreload 2\n",
    "\n",
    "import numpy as np\n",
    "import sys\n",
    "sys.path.append(\"/home/alex/python_programming/help_functions\")\n",
    "sys.path.append(\"/home/alex/Dropbox/smc_hmc/python_smchmc\")\n",
    "from smc_sampler_functions.functions_smc_help import sequence_distributions\n",
    "\n",
    "from help.f_rand_seq_gen import random_sequence_qmc, random_sequence_rqmc, random_sequence_mc\n",
    "import numpy as np\n",
    "from functools import partial\n",
    "\n",
    "\n",
    "import sys\n",
    "sys.path.append(\"../help\")\n",
    "from help import resampling\n",
    "from help import dichotomic_search\n",
    "import inspect\n",
    "import time\n",
    "import copy\n",
    "import pickle\n",
    "import datetime\n",
    "import os\n",
    "\n",
    "\n",
    "#from help.gaussian_densities_etc import gaussian_vectorized\n",
    "from help.gaussian_densities_etc import gaussian_vectorized\n",
    "from smc_sampler_functions.functions_smc_help import hilbert_sampling\n",
    "from smc_sampler_functions.functions_smc_is_main import smc_sampler_is_qmc\n",
    "from smc_sampler_functions.functions_smc_main import smc_sampler\n",
    "# define the parameters\n",
    "dim = 20\n",
    "N_particles = 2**10\n",
    "T_time = 50\n",
    "move_steps = 10\n",
    "ESStarget = 0.9\n",
    "#rs = np.random.seed(1)\n",
    "targetmean = np.ones(dim)*0.1\n",
    "targetvariance = np.eye(dim)*0.8\n",
    "#targetvariance[0,0] = 0.1\n",
    "#targetvariance[-1,-1] = 2\n",
    "targetvariance_inv = np.linalg.inv(targetvariance)\n",
    "l_targetvariance_inv = np.linalg.cholesky(targetvariance_inv)\n",
    "parameters = {'dim' : dim, \n",
    "              'N_particles' : N_particles, \n",
    "              'targetmean': targetmean, \n",
    "              'targetvariance':targetvariance,\n",
    "              'logdet_targetvariance' : np.linalg.slogdet(targetvariance)[1],\n",
    "              'targetvariance_inv':targetvariance_inv,\n",
    "              'l_targetvariance_inv':l_targetvariance_inv,\n",
    "              'df' : 10,\n",
    "              'T_time' : T_time,\n",
    "              'autotempering' : True,\n",
    "              'ESStarget': ESStarget,\n",
    "              'adaptive_covariance' : True,\n",
    "              'quantile_test': 0.9\n",
    "             }\n",
    "\n",
    "\n",
    "# define the target distributions\n",
    "from smc_sampler_functions.target_distributions import priorlogdens, priorgradlogdens, priorsampler\n",
    "from smc_sampler_functions.target_distributions import targetlogdens_normal, targetgradlogdens_normal\n",
    "from smc_sampler_functions.target_distributions import targetlogdens_student, targetgradlogdens_student\n",
    "from smc_sampler_functions.target_distributions import targetlogdens_banana, targetgradlogdens_banana\n",
    "from smc_sampler_functions.target_distributions import targetlogdens_warped, targetgradlogdens_warped\n",
    "from smc_sampler_functions.target_distributions import targetlogdens_logistic, targetgradlogdens_logistic, f_dict_logistic_regression\n",
    "from smc_sampler_functions.target_distributions import targetlogdens_normal_mix, targetgradlogdens_normal_mix\n",
    "\n",
    "\n",
    "priordistribution = {'logdensity' : priorlogdens, 'gradlogdensity' : priorgradlogdens, 'priorsampler': priorsampler}\n",
    "targetdistribution = {'logdensity' : targetlogdens_normal, 'gradlogdensity' : targetgradlogdens_normal, 'target_name': 'normal'}\n",
    "#targetdistribution = {'logdensity' : targetlogdens_student, 'gradlogdensity' : targetgradlogdens_student, 'target_name': 'student_model'}\n",
    "#targetdistribution = {'logdensity' : targetlogdens_logistic, 'gradlogdensity' : targetgradlogdens_logistic, 'target_name': 'logistic'}\n",
    "#targetdistribution = {'logdensity' : targetlogdens_warped, 'gradlogdensity' : targetgradlogdens_warped, 'target_name': 'warped_model'}\n",
    "#targetdistribution = {'logdensity' : targetlogdens_normal_mix, 'gradlogdensity' : targetgradlogdens_normal_mix, 'target_name': 'normal_mix'}\n",
    "\n",
    "#parameters_logistic = f_dict_logistic_regression(dim)\n",
    "#import ipdb; ipdb.set_trace()\n",
    "#parameters.update(parameters_logistic)\n",
    "\n",
    "\n",
    "temperedist = sequence_distributions(parameters, priordistribution, targetdistribution)\n",
    "\n",
    "# prepare the kernels and specify parameters\n",
    "from smc_sampler_functions.proposal_kernels import proposalmala, proposalrw, proposalhmc, proposalhmc_is\n",
    "from smc_sampler_functions.functions_smc_main import smc_sampler\n",
    "\n",
    "\n",
    "epsilon_hmc = 0.005\n",
    "verbose = False\n",
    "move_steps_hmc = 2\n",
    "hmcdict = {'proposalkernel_tune': proposalhmc,\n",
    "                      'proposalkernel_sample': proposalhmc,\n",
    "                      'proposalname' : 'HMC',\n",
    "                      'target_probability' : 0.9,\n",
    "                      'covariance_matrix' : np.eye(dim), \n",
    "                      'L_steps' : 100,\n",
    "                      'epsilon' : np.array([epsilon_hmc]),\n",
    "                      'epsilon_max' : np.array([epsilon_hmc]),\n",
    "                      'accept_reject' : True,\n",
    "                      'tune_kernel': True,\n",
    "                      'sample_eps_L' : True,\n",
    "                      'parallelize' : False,\n",
    "                      'verbose' : verbose,\n",
    "                      'move_steps': 10,\n",
    "                      'mean_L' : False\n",
    "                      }\n",
    "\n",
    "hmcdict_is_mc = {'proposalkernel_tune': proposalhmc_is,\n",
    "                      'proposalkernel_sample': proposalhmc_is,\n",
    "                      'proposalname' : 'HMC IS MC',\n",
    "                      'target_probability' : 0.95,\n",
    "                      'covariance_matrix' : np.eye(dim), \n",
    "                      'L_steps' : 50,\n",
    "                      'epsilon' : np.array([epsilon_hmc]),\n",
    "                      'epsilon_max' : np.array([epsilon_hmc]),\n",
    "                      'accept_reject' : False,\n",
    "                      'tune_kernel': True,\n",
    "                      'sample_eps_L' : True,\n",
    "                      'parallelize' : False,\n",
    "                      'verbose' : verbose,\n",
    "                      'move_steps': 1,\n",
    "                      'mean_L' : True,\n",
    "                      'unif_sampler' : random_sequence_mc, \n",
    "                      'trajectory_selector_energy' : True\n",
    "                      }\n",
    "hmcdict_is_qmc = copy.copy(hmcdict_is_mc)\n",
    "hmcdict_is_qmc[\"unif_sampler\"] = random_sequence_rqmc\n",
    "hmcdict_is_qmc[\"proposalname\"] = 'HMC IS QMC'\n"
   ]
  },
  {
   "cell_type": "code",
   "execution_count": 183,
   "metadata": {
    "collapsed": false
   },
   "outputs": [
    {
     "name": "stdout",
     "output_type": "stream",
     "text": [
      "Starting sqmc is sampler\n",
      "Now runing smc sampler with HMC IS QMC kernel\n",
      "ERROR: outside 0 1 ! ure 1.0, current ESS 0.999986955551081262\n",
      "Sampler ended at time 9 after 9.11531996727 seconds \n",
      "\n",
      "Starting sqmc is sampler\n",
      "Now runing smc sampler with HMC IS MC kernel\n",
      "Sampler ended at time 9 after 7.5378780365 seconds 45493725375\n",
      "\n"
     ]
    },
    {
     "data": {
      "image/png": "[encoded data removed]",
      "text/plain": [
       "<matplotlib.figure.Figure at 0x7fc2025fd790>"
      ]
     },
     "metadata": {},
     "output_type": "display_data"
    },
    {
     "data": {
      "image/png": "[encoded data removed]",
      "text/plain": [
       "<matplotlib.figure.Figure at 0x7fc239501490>"
      ]
     },
     "metadata": {},
     "output_type": "display_data"
    }
   ],
   "source": [
    "res_qmc = smc_sampler_is_qmc(temperedist, parameters, hmcdict_is_qmc)\n",
    "res_mc = smc_sampler_is_qmc(temperedist, parameters, hmcdict_is_mc)\n",
    "plt.plot(res_qmc['Z_list']); plt.show()\n",
    "plt.plot(res_qmc['ESS_list']); plt.show()"
   ]
  },
  {
   "cell_type": "code",
   "execution_count": 184,
   "metadata": {
    "collapsed": false
   },
   "outputs": [
    {
     "data": {
      "image/png": "[encoded data removed]",
      "text/plain": [
       "<matplotlib.figure.Figure at 0x7fc228137550>"
      ]
     },
     "metadata": {},
     "output_type": "display_data"
    }
   ],
   "source": [
    "plt.hist([res['test_statistic'] for res in res_qmc['test_dict_list']], alpha=0.5)\n",
    "plt.hist([res['test_statistic'] for res in res_mc['test_dict_list']], alpha=0.5)\n",
    "#plt.hist([res['test_statistic'] for res in res_mcmc['test_dict_list']], alpha=0.5)\n",
    "plt.show()"
   ]
  },
  {
   "cell_type": "code",
   "execution_count": 185,
   "metadata": {
    "collapsed": false
   },
   "outputs": [
    {
     "data": {
      "text/plain": [
       "([0.0050000000000000001,\n",
       "  0.0038402229044293061,\n",
       "  0.0038402229044293061,\n",
       "  0.13680708078620674,\n",
       "  0.13680708078620674,\n",
       "  0.13590778922748653,\n",
       "  0.13590778922748653,\n",
       "  0.14169140777511238,\n",
       "  0.14169140777511238],\n",
       " [50, 33, 33, 21, 21, 22, 22, 21, 21])"
      ]
     },
     "execution_count": 185,
     "metadata": {},
     "output_type": "execute_result"
    }
   ],
   "source": [
    "\n",
    "[res['epsilon'].mean() for res in res_qmc['perf_list']], [res['L'] for res in res_qmc['perf_list']]"
   ]
  },
  {
   "cell_type": "code",
   "execution_count": 186,
   "metadata": {
    "collapsed": false
   },
   "outputs": [
    {
     "name": "stdout",
     "output_type": "stream",
     "text": [
      "0\n",
      "Starting sqmc is sampler\n",
      "Now runing smc sampler with HMC IS QMC kernel\n",
      "Sampler ended at time 9 after 7.05706596375 seconds 108334002\n",
      "\n",
      "Starting sqmc is sampler\n",
      "Now runing smc sampler with HMC IS MC kernel\n",
      "Sampler ended at time 9 after 6.76473498344 seconds 479494334\n",
      "\n",
      "1\n",
      "Starting sqmc is sampler\n",
      "Now runing smc sampler with HMC IS QMC kernel\n",
      "Sampler ended at time 9 after 7.47413301468 seconds 8562623979\n",
      "\n",
      "Starting sqmc is sampler\n",
      "Now runing smc sampler with HMC IS MC kernel\n",
      "Sampler ended at time 9 after 7.63816690445 seconds 406379966\n",
      "\n",
      "2\n",
      "Starting sqmc is sampler\n",
      "Now runing smc sampler with HMC IS QMC kernel\n",
      "Sampler ended at time 9 after 8.45532107353 seconds 8221944526\n",
      "\n",
      "Starting sqmc is sampler\n",
      "Now runing smc sampler with HMC IS MC kernel\n",
      "Sampler ended at time 9 after 9.2048830986 seconds 32238606652\n",
      "\n",
      "3\n",
      "Starting sqmc is sampler\n",
      "Now runing smc sampler with HMC IS QMC kernel\n",
      "Sampler ended at time 9 after 9.44971990585 seconds 0931075\n",
      "\n",
      "Starting sqmc is sampler\n",
      "Now runing smc sampler with HMC IS MC kernel\n",
      "Sampler ended at time 9 after 9.03636598587 seconds 7398222956\n",
      "\n",
      "4\n",
      "Starting sqmc is sampler\n",
      "Now runing smc sampler with HMC IS QMC kernel\n",
      "Sampler ended at time 9 after 11.8968701363 seconds 3258029912\n",
      "\n",
      "Starting sqmc is sampler\n",
      "Now runing smc sampler with HMC IS MC kernel\n",
      "Sampler ended at time 9 after 9.16822910309 seconds 3926769311\n",
      "\n",
      "5\n",
      "Starting sqmc is sampler\n",
      "Now runing smc sampler with HMC IS QMC kernel\n",
      "Sampler ended at time 9 after 8.172052145 seconds 016315600143\n",
      "\n",
      "Starting sqmc is sampler\n",
      "Now runing smc sampler with HMC IS MC kernel\n",
      "Sampler ended at time 9 after 11.0701098442 seconds 5361103001\n",
      "\n",
      "6\n",
      "Starting sqmc is sampler\n",
      "Now runing smc sampler with HMC IS QMC kernel\n",
      "Sampler ended at time 9 after 9.74663805962 seconds 7358572807\n",
      "\n",
      "Starting sqmc is sampler\n",
      "Now runing smc sampler with HMC IS MC kernel\n",
      "Sampler ended at time 9 after 11.2153859138 seconds 0758853572\n",
      "\n",
      "7\n",
      "Starting sqmc is sampler\n",
      "Now runing smc sampler with HMC IS QMC kernel\n",
      "Sampler ended at time 9 after 9.24565505981 seconds 308738242\n",
      "\n",
      "Starting sqmc is sampler\n",
      "Now runing smc sampler with HMC IS MC kernel\n",
      "Sampler ended at time 9 after 9.08902716637 seconds 589277588\n",
      "\n",
      "8\n",
      "Starting sqmc is sampler\n",
      "Now runing smc sampler with HMC IS QMC kernel\n",
      "Sampler ended at time 9 after 8.96603894234 seconds 5855379095\n",
      "\n",
      "Starting sqmc is sampler\n",
      "Now runing smc sampler with HMC IS MC kernel\n",
      "Sampler ended at time 9 after 7.50040602684 seconds 39767051\n",
      "\n",
      "9\n",
      "Starting sqmc is sampler\n",
      "Now runing smc sampler with HMC IS QMC kernel\n",
      "Sampler ended at time 9 after 8.88106393814 seconds 2829759481\n",
      "\n",
      "Starting sqmc is sampler\n",
      "Now runing smc sampler with HMC IS MC kernel\n",
      "Sampler ended at time 9 after 7.89014005661 seconds 392282225\n",
      "\n",
      "10\n",
      "Starting sqmc is sampler\n",
      "Now runing smc sampler with HMC IS QMC kernel\n",
      "Sampler ended at time 9 after 8.58122396469 seconds 520273562\n",
      "\n",
      "Starting sqmc is sampler\n",
      "Now runing smc sampler with HMC IS MC kernel\n",
      "Sampler ended at time 9 after 12.8654179573 seconds 682183981\n",
      "\n",
      "11\n",
      "Starting sqmc is sampler\n",
      "Now runing smc sampler with HMC IS QMC kernel\n",
      "Sampler ended at time 9 after 8.94791102409 seconds 947468928\n",
      "\n",
      "Starting sqmc is sampler\n",
      "Now runing smc sampler with HMC IS MC kernel\n",
      "Sampler ended at time 9 after 10.4404909611 seconds 096659325\n",
      "\n",
      "12\n",
      "Starting sqmc is sampler\n",
      "Now runing smc sampler with HMC IS QMC kernel\n",
      "Sampler ended at time 9 after 7.20668411255 seconds 3692154013\n",
      "\n",
      "Starting sqmc is sampler\n",
      "Now runing smc sampler with HMC IS MC kernel\n",
      "Sampler ended at time 9 after 6.86631512642 seconds 538674811\n",
      "\n",
      "13\n",
      "Starting sqmc is sampler\n",
      "Now runing smc sampler with HMC IS QMC kernel\n",
      "Sampler ended at time 9 after 6.82456707954 seconds 507751398\n",
      "\n",
      "Starting sqmc is sampler\n",
      "Now runing smc sampler with HMC IS MC kernel\n",
      "Sampler ended at time 9 after 6.71979212761 seconds 293144164\n",
      "\n",
      "14\n",
      "Starting sqmc is sampler\n",
      "Now runing smc sampler with HMC IS QMC kernel\n",
      "Sampler ended at time 9 after 9.0033659935 seconds 8236753521\n",
      "\n",
      "Starting sqmc is sampler\n",
      "Now runing smc sampler with HMC IS MC kernel\n",
      "Sampler ended at time 9 after 8.24028086662 seconds 806417877\n",
      "\n",
      "15\n",
      "Starting sqmc is sampler\n",
      "Now runing smc sampler with HMC IS QMC kernel\n",
      "Sampler ended at time 9 after 7.62491607666 seconds 906913424\n",
      "\n",
      "Starting sqmc is sampler\n",
      "Now runing smc sampler with HMC IS MC kernel\n",
      "Sampler ended at time 9 after 10.8981740475 seconds 546885954\n",
      "\n",
      "16\n",
      "Starting sqmc is sampler\n",
      "Now runing smc sampler with HMC IS QMC kernel\n",
      "Sampler ended at time 9 after 7.90927290916 seconds 065603467\n",
      "\n",
      "Starting sqmc is sampler\n",
      "Now runing smc sampler with HMC IS MC kernel\n",
      "Sampler ended at time 9 after 7.27601408958 seconds 262468695\n",
      "\n",
      "17\n",
      "Starting sqmc is sampler\n",
      "Now runing smc sampler with HMC IS QMC kernel\n",
      "Sampler ended at time 9 after 7.41128206253 seconds 443948636\n",
      "\n",
      "Starting sqmc is sampler\n",
      "Now runing smc sampler with HMC IS MC kernel\n",
      "Sampler ended at time 9 after 6.4987578392 seconds 3901384978\n",
      "\n",
      "18\n",
      "Starting sqmc is sampler\n",
      "Now runing smc sampler with HMC IS QMC kernel\n",
      "Sampler ended at time 9 after 7.84258294106 seconds 679770778\n",
      "\n",
      "Starting sqmc is sampler\n",
      "Now runing smc sampler with HMC IS MC kernel\n",
      "Sampler ended at time 9 after 6.56531214714 seconds 0363622287\n",
      "\n",
      "19\n",
      "Starting sqmc is sampler\n",
      "Now runing smc sampler with HMC IS QMC kernel\n",
      "Sampler ended at time 9 after 8.37898206711 seconds 0289631155\n",
      "\n",
      "Starting sqmc is sampler\n",
      "Now runing smc sampler with HMC IS MC kernel\n",
      "Sampler ended at time 9 after 6.96058416367 seconds 32942847\n",
      "\n"
     ]
    }
   ],
   "source": [
    "qmc_list = []\n",
    "mc_list = []\n",
    "mcmc_list = []\n",
    "for m in range(20):\n",
    "    print(m)\n",
    "    res_qmc = smc_sampler_is_qmc(temperedist, parameters, hmcdict_is_qmc)\n",
    "    res_mc = smc_sampler_is_qmc(temperedist, parameters, hmcdict_is_mc)\n",
    "    #res_mcmc = smc_sampler(temperedist, parameters, hmcdict)\n",
    "    qmc_list.append(res_qmc)\n",
    "    mc_list.append(res_mc)\n",
    "    #mcmc_list.append(res_mcmc)\n"
   ]
  },
  {
   "cell_type": "code",
   "execution_count": 187,
   "metadata": {
    "collapsed": false
   },
   "outputs": [
    {
     "data": {
      "image/png": "[encoded data removed]",
      "text/plain": [
       "<matplotlib.figure.Figure at 0x7fc2202ba490>"
      ]
     },
     "metadata": {},
     "output_type": "display_data"
    },
    {
     "data": {
      "image/png": "[encoded data removed]",
      "text/plain": [
       "<matplotlib.figure.Figure at 0x7fc2206a8250>"
      ]
     },
     "metadata": {},
     "output_type": "display_data"
    },
    {
     "name": "stdout",
     "output_type": "stream",
     "text": [
      "2.48060309779\n",
      "1.66399274638\n"
     ]
    }
   ],
   "source": [
    "Z_list_qmc = [np.sum(res['Z_list']) for res in qmc_list]\n",
    "Z_list_mc = [np.sum(res['Z_list']) for res in mc_list]\n",
    "\n",
    "mean_list_qmc = [res['particles_resampled'].mean(axis=0) for res in qmc_list]\n",
    "mean_list_mc = [res['particles_resampled'].mean(axis=0) for res in mc_list]\n",
    "\n",
    "data_mean = [np.array(mean_list_qmc).sum(axis=1), np.array(mean_list_mc).sum(axis=1)]\n",
    "data_norm = [Z_list_qmc, Z_list_mc]\n",
    "#plt.subplot(121)\n",
    "plt.boxplot(data_mean)\n",
    "plt.savefig('boxplot_cum_mean_dim%s_%s.png'%(dim, targetdistribution['target_name']))\n",
    "plt.show()\n",
    "#plt.subplot(122)\n",
    "plt.boxplot(data_norm)\n",
    "plt.savefig('boxplot_norm_constant_dim%s_%s.png'%(dim, targetdistribution['target_name']))\n",
    "plt.show()\n",
    "#print((np.array(Z_list_qmc)**2).mean(), (np.array(Z_list_mc)**2).mean(), (np.array(Z_list_mcmc)**2).mean() )\n",
    "#print(((np.array(mean_list_qmc).sum(axis=1)-targetmean.sum())**2).sum(), ((np.array(mean_list_mc).sum(axis=1)-targetmean.sum())**2).sum(), ((np.array(mean_list_mcmc).sum(axis=1)-targetmean.sum())**2).sum())\n",
    "#print(np.array(Z_list_qmc).var(), np.array(Z_list_mc).var(), np.array(Z_list_mcmc).var())\n",
    "print(np.array(Z_list_mc).var()/np.array(Z_list_qmc).var())\n",
    "print(np.array(mean_list_mc).sum(axis=1).var()/np.array(mean_list_qmc).sum(axis=1).var())\n",
    "#print(np.array(mean_list_qmc).sum(axis=1).var(), np.array(mean_list_mc).sum(axis=1).var(), np.array(mean_list_mcmc).sum(axis=1).var())\n",
    "#print(np.array(Z_list_qmc)).var(), (np.array(Z_list_mc)).var(), (np.array(Z_list_mcmc)).var() \n",
    "#np.array(mean_list_qmc).sum(axis=1).var(), (np.array(mean_list_mc).sum(axis=1)).var(), (np.array(mean_list_mcmc).sum(axis=1)).var()"
   ]
  },
  {
   "cell_type": "code",
   "execution_count": null,
   "metadata": {
    "collapsed": false
   },
   "outputs": [],
   "source": [
    "Z_list_qmc = [np.sum(res['Z_list']) for res in qmc_list]\n",
    "Z_list_mc = [np.sum(res['Z_list']) for res in mc_list]\n",
    "Z_list_mcmc = [np.sum(res['Z_list']) for res in mcmc_list]\n",
    "\n",
    "mean_list_qmc = [res['particles_resampled'].mean(axis=0) for res in qmc_list]\n",
    "mean_list_mc = [res['particles_resampled'].mean(axis=0) for res in mc_list]\n",
    "mean_list_mcmc = [res['particles_resampled'].mean(axis=0) for res in mcmc_list]\n",
    "\n",
    "data_mean = [np.array(mean_list_qmc).sum(axis=1), np.array(mean_list_mc).sum(axis=1), np.array(mean_list_mcmc).sum(axis=1)]\n",
    "data_norm = [Z_list_qmc, Z_list_mc, Z_list_mcmc]\n",
    "#plt.subplot(121)\n",
    "plt.boxplot(data_mean)\n",
    "plt.savefig('boxplot_cum_mean_dim%s_%s.png'%(dim, targetdistribution['target_name']))\n",
    "plt.show()\n",
    "#plt.subplot(122)\n",
    "plt.boxplot(data_norm)\n",
    "plt.savefig('boxplot_norm_constant_dim%s_%s.png'%(dim, targetdistribution['target_name']))\n",
    "plt.show()\n",
    "#print((np.array(Z_list_qmc)**2).mean(), (np.array(Z_list_mc)**2).mean(), (np.array(Z_list_mcmc)**2).mean() )\n",
    "#print(((np.array(mean_list_qmc).sum(axis=1)-targetmean.sum())**2).sum(), ((np.array(mean_list_mc).sum(axis=1)-targetmean.sum())**2).sum(), ((np.array(mean_list_mcmc).sum(axis=1)-targetmean.sum())**2).sum())\n",
    "print(np.array(Z_list_qmc).var(), np.array(Z_list_mc).var(), np.array(Z_list_mcmc).var())\n",
    "print(np.array(mean_list_qmc).sum(axis=1).var(), np.array(mean_list_mc).sum(axis=1).var(), np.array(mean_list_mcmc).sum(axis=1).var())\n",
    "#print(np.array(Z_list_qmc)).var(), (np.array(Z_list_mc)).var(), (np.array(Z_list_mcmc)).var() \n",
    "#np.array(mean_list_qmc).sum(axis=1).var(), (np.array(mean_list_mc).sum(axis=1)).var(), (np.array(mean_list_mcmc).sum(axis=1)).var()"
   ]
  },
  {
   "cell_type": "code",
   "execution_count": null,
   "metadata": {
    "collapsed": false
   },
   "outputs": [],
   "source": [
    "plt.plot(res_qmc['temp_list'], res_qmc['ESS_list'] )\n",
    "plt.plot(res_qmc['temp_list'], res_qmc['Z_list'])\n",
    "plt.plot(res_mc['temp_list'], res_mc['ESS_list'] )\n",
    "plt.plot(res_mc['temp_list'], res_mc['Z_list']); plt.show()\n",
    "parameters\n",
    "np.sum(res_qmc['Z_list']), np.sum(res_mc['Z_list']), np.sum(res_mcmc['Z_list'])\n"
   ]
  },
  {
   "cell_type": "markdown",
   "metadata": {},
   "source": [
    "### IS version based on HMC flow\n",
    "We sample on the extended state space $(x, p)$, where $x$ is the position and $p$ the momentum.\n",
    "We target the distribution $\\mu_t = \\pi_t \\times g$. At time $t-1$, \n",
    "$\\theta = (x, p)$ is distributed according $\\mu_{t-1}$. We use the Hamiltonian flow $\\Phi$ in order to move \n",
    "$(x, p)$ to $(\\tilde{x}, \\tilde{p}) = \\tilde{ \\theta }$. \n",
    "The weight is based on the importance sampling weight\n",
    "$$\n",
    "w(\\tilde{\\theta},\\theta) = \\frac{\\mu_t(\\tilde{x}, \\tilde{p})}{\\mu_{t-1}(x,p)}.\n",
    "$$\n",
    "This is because of \n",
    "$$\n",
    "\\mu_{t-1}(\\theta) = \\mu_{t-1}(\\Phi^{-1}(\\tilde{\\theta})) \\times \\det | \\Phi^{-1} |\n",
    "$$\n",
    "and $\\det | \\Phi^{-1} | = 1$, when we consider the HMC flow to be a change of variables.\n",
    "In case of a move step (targeting the same distribution) we get \n",
    "$$\n",
    "w(\\tilde{\\theta},\\theta) = \\frac{\\mu_{t-1}(\\tilde{x}, \\tilde{p})}{\\mu_{t-1}(x,p)}.\n",
    "$$\n",
    "for the weights."
   ]
  },
  {
   "cell_type": "code",
   "execution_count": null,
   "metadata": {
    "collapsed": false
   },
   "outputs": [],
   "source": [
    "plt.scatter(x=res_mc['particles_resampled'][:,0], y=res_mc['particles_resampled'][:,1]); plt.show()"
   ]
  },
  {
   "cell_type": "code",
   "execution_count": null,
   "metadata": {
    "collapsed": false
   },
   "outputs": [],
   "source": []
  },
  {
   "cell_type": "code",
   "execution_count": null,
   "metadata": {
    "collapsed": false
   },
   "outputs": [],
   "source": [
    "print(np.var(summary_particles_norm_qmc))\n",
    "print(np.var(summary_particles_norm_mc))\n",
    "plt.plot(np.array(summary_particles_mean_mc).var(axis=0))\n",
    "plt.plot(np.array(summary_particles_mean_qmc).var(axis=0)); plt.show()\n",
    "np.array(summary_particles_mean_mc).shape"
   ]
  },
  {
   "cell_type": "code",
   "execution_count": null,
   "metadata": {
    "collapsed": false
   },
   "outputs": [],
   "source": [
    "N_particles = 1000\n",
    "u_randomness = random_sequence_rqmc(dim*2, 0, N_particles)\n",
    "particles_initial = gaussian_vectorized(u_randomness[:, :dim])\n",
    "temp = 1.\n",
    "particles, perf_dict = proposalhmc_is(particles_initial, u_randomness[:, dim:], hmcdict_is_mc, temperedist, temp)\n",
    "#particles, perf_dict = proposalhmc(particles_initial, hmcdict_is, temperedist, temp)\n",
    "weights_log = (temperedist.logdensity(particles,temp)-perf_dict['energy_kinetic'][:,-1]-temperedist.logdensity(particles_initial,0)+perf_dict['energy_kinetic'][:,0])\n",
    "#weights_log = (temperedist.logdensity(particles,temp)-temperedist.logdensity(particles_initial,0))\n",
    "print(np.exp(weights_log).mean())\n",
    "#import pdb; pdb.set_trace()\n",
    "weights_normalized = np.exp(weights_log)/np.exp(weights_log).sum()\n",
    "ESS = 1/(weights_normalized**2).sum()\n",
    "print(ESS)\n",
    "\n",
    "u_randomness = random_sequence_rqmc(dim+1, 0, N_particles)\n",
    "# hilbert sampling\n",
    "#ancestors = resampling.multinomial_resample(weights_normalized)\n",
    "#particles_resampled = particles[ancestors,:]\n",
    "particles_resampled, weights_normalized_new, u_randomness_ordered = hilbert_sampling(particles, weights_normalized, u_randomness)\n",
    "plt.scatter(x=particles_initial[:,0], y=particles_initial[:,1], label=\"init\")\n",
    "plt.scatter(x=particles[:,0], y=particles[:,1], label=\"moved\")\n",
    "plt.scatter(x=particles_resampled[:,0], y=particles_resampled[:,1], label=\"resampled\"); plt.legend()\n",
    "plt.show()\n",
    "print(particles_resampled.mean(axis=0))\n",
    "print(particles.mean(axis=0))\n",
    "print(parameters['targetmean'])"
   ]
  },
  {
   "cell_type": "code",
   "execution_count": null,
   "metadata": {
    "collapsed": false
   },
   "outputs": [],
   "source": [
    "perf_dict['trajectory_particles'][0][:,:,0]-particles_initial\n"
   ]
  },
  {
   "cell_type": "code",
   "execution_count": 178,
   "metadata": {
    "collapsed": false
   },
   "outputs": [],
   "source": [
    "def repeat_is_sampling(random_sequence, N_particles_list):\n",
    "    dict_particles = {str(N_particles): [] for N_particles in N_particles_list}\n",
    "    m_rep = 20\n",
    "    for N_particles in N_particles_list:\n",
    "        array_means = np.zeros((m_rep, dim, hmcdict_is_mc['L_steps']+1))\n",
    "        #list_means_resampled = []\n",
    "        array_norm_const = np.zeros((m_rep, 1, hmcdict_is_mc['L_steps']+1))\n",
    "        for m in range(m_rep):\n",
    "            u_randomness = random_sequence(dim*2, 0, N_particles)\n",
    "            particles_initial = gaussian_vectorized(u_randomness[:, :dim])\n",
    "            temp = 1.\n",
    "            particles, perf_dict = proposalhmc_is(particles_initial, u_randomness[:, dim:], hmcdict_is_mc, temperedist, temp)\n",
    "            for k_step in range(hmcdict_is_mc['L_steps']+1):\n",
    "                #particles, perf_dict = proposalhmc(particles_initial, hmcdict_is, temperedist, temp)\n",
    "                particles_current = perf_dict['trajectory_particles'][0][:,:,k_step]\n",
    "                weights_log = (temperedist.logdensity(particles_current,temp)-perf_dict['energy_kinetic'][:,k_step]-temperedist.logdensity(particles_initial,0)+perf_dict['energy_kinetic'][:,0])\n",
    "                weights_normalized = np.exp(weights_log)/np.exp(weights_log).sum()\n",
    "                array_means[m, :, k_step] = (particles_current*weights_normalized[:,np.newaxis]).sum(axis=0)\n",
    "\n",
    "                ESS = 1/(weights_normalized**2).sum()\n",
    "                #print(ESS)\n",
    "                array_norm_const[m, :, k_step] = np.exp(weights_log).mean()\n",
    "        dict_particles[str(N_particles)].append({'means': array_means, 'norm_const':array_norm_const})\n",
    "\n",
    "            #u_randomness = random_sequence(dim+1, 0, N_particles)\n",
    "            # hilbert sampling\n",
    "            #ancestors = resampling.multinomial_resample(weights_normalized)\n",
    "            #particles_resampled = particles[ancestors,:]\n",
    "            #particles_resampled, weights_normalized_new, u_randomness_ordered = hilbert_sampling(particles, weights_normalized, u_randomness)\n",
    "            #list_means_resampled.append(particles_resampled.mean())\n",
    "    return(dict_particles)"
   ]
  },
  {
   "cell_type": "code",
   "execution_count": 179,
   "metadata": {
    "collapsed": false
   },
   "outputs": [],
   "source": [
    "N_particles_list = [50, 100, 200, 500, 1000, 2000, 5000]#, 10000, 20000]\n",
    "dict_particles = repeat_is_sampling(random_sequence_mc, N_particles_list)"
   ]
  },
  {
   "cell_type": "code",
   "execution_count": 104,
   "metadata": {
    "collapsed": false
   },
   "outputs": [
    {
     "data": {
      "text/plain": [
       "[0.053271598611749474,\n",
       " 0.028160848407543522,\n",
       " 0.025622939195310716,\n",
       " 0.0031497952398221222,\n",
       " 0.002022093143421326,\n",
       " 0.0010565290230824371,\n",
       " 0.00071356991315099573]"
      ]
     },
     "execution_count": 104,
     "metadata": {},
     "output_type": "execute_result"
    }
   ],
   "source": [
    "[dict_particles[str(N_particles)][0]['norm_const'].var(axis=0)[0,-1] for N_particles in N_particles_list]"
   ]
  },
  {
   "cell_type": "code",
   "execution_count": 180,
   "metadata": {
    "collapsed": false
   },
   "outputs": [],
   "source": [
    "dict_particles_qmc = repeat_is_sampling(random_sequence_rqmc, N_particles_list)"
   ]
  },
  {
   "cell_type": "code",
   "execution_count": 181,
   "metadata": {
    "collapsed": false
   },
   "outputs": [
    {
     "data": {
      "image/png": "[encoded data removed]",
      "text/plain": [
       "<matplotlib.figure.Figure at 0x7fc228086dd0>"
      ]
     },
     "metadata": {},
     "output_type": "display_data"
    },
    {
     "data": {
      "image/png": "[encoded data removed]",
      "text/plain": [
       "<matplotlib.figure.Figure at 0x7fc228086510>"
      ]
     },
     "metadata": {},
     "output_type": "display_data"
    }
   ],
   "source": [
    "ind = 0\n",
    "for ind in range(0,hmcdict_is_mc['L_steps']):\n",
    "    plt.plot(N_particles_list, [((dict_particles[str(N_particles)][0]['means']-targetmean[np.newaxis,:,np.newaxis])**2).mean(axis=0).mean(axis=0)[ind] for N_particles in N_particles_list])\n",
    "    plt.plot(N_particles_list, [((dict_particles_qmc[str(N_particles)][0]['means']-targetmean[np.newaxis,:,np.newaxis])**2).mean(axis=0).mean(axis=0)[ind] for N_particles in N_particles_list], linestyle=\":\")\n",
    "plt.yscale('log'); plt.xscale('log')\n",
    "plt.show()\n",
    "\n",
    "for ind in range(0,hmcdict_is_mc['L_steps']):\n",
    "    plt.plot(N_particles_list, [((dict_particles[str(N_particles)][0]['norm_const']-1)**2).mean(axis=0)[0,ind] for N_particles in N_particles_list])\n",
    "    plt.plot(N_particles_list, [((dict_particles_qmc[str(N_particles)][0]['norm_const']-1)**2).mean(axis=0)[0,ind] for N_particles in N_particles_list], linestyle=\":\")\n",
    "plt.yscale('log'); plt.xscale('log')\n",
    "plt.show()\n"
   ]
  },
  {
   "cell_type": "code",
   "execution_count": 182,
   "metadata": {
    "collapsed": false
   },
   "outputs": [
    {
     "name": "stdout",
     "output_type": "stream",
     "text": [
      "[-8.16900577 -8.17842828]\n",
      "[-10.57172156 -10.51903071]\n",
      "[ 11.05315368  11.05233421  11.05095946  11.04902963  11.04654519\n",
      "  11.04350682  11.03991547  11.03577231  11.03107875  11.02583645\n",
      "  11.0200473   11.01371341  11.00683714  10.99942107  10.99146801\n",
      "  10.982981    10.9739633   10.96441838  10.95434993  10.94376185\n",
      "  10.93265827  10.9210435   10.90892204  10.89629863  10.88317817\n",
      "  10.86956574  10.85546663  10.84088629  10.82583035  10.8103046   10.794315\n",
      "  10.77786767  10.76096888  10.74362503  10.72584268  10.70762853\n",
      "  10.68898938  10.66993218  10.65046399  10.63059199  10.61032343\n",
      "  10.58966571  10.56862629  10.54721274  10.52543268  10.50329383\n",
      "  10.48080398  10.45797098  10.43480274  10.41130721  10.38749239]\n",
      "[-9.18917324 -9.18917981]\n",
      "[-11.67870547 -11.67871904]\n"
     ]
    }
   ],
   "source": [
    "print(np.log(((dict_particles['5000'][0]['means']-targetmean[np.newaxis,:,np.newaxis])**2).mean(axis=0).mean(axis=0)[[0,-1]]))\n",
    "print(np.log(((dict_particles_qmc['5000'][0]['means']-targetmean[np.newaxis,:,np.newaxis])**2).mean(axis=0).mean(axis=0)[[0,-1]]))\n",
    "print (((dict_particles['5000'][0]['means']-targetmean[np.newaxis,:,np.newaxis])**2).mean(axis=0).mean(axis=0)/((dict_particles_qmc['5000'][0]['means']-targetmean[np.newaxis,:,np.newaxis])**2).mean(axis=0).mean(axis=0))\n",
    "#((dict_particles['5000'][0]['means']-targetmean[np.newaxis,:,np.newaxis])**2).mean(axis=0).mean(axis=0)[0,:]/((dict_particles_qmc['5000'][0]['means']-targetmean[np.newaxis,:,np.newaxis])**2).mean(axis=0).mean(axis=0)[0,:]\n",
    "\n",
    "print(np.log(((dict_particles['5000'][0]['norm_const']-1)**2).mean(axis=0).mean(axis=0)[[0,-1]]))\n",
    "print(np.log(((dict_particles_qmc['5000'][0]['norm_const']-1)**2).mean(axis=0).mean(axis=0)[[0,-1]]))"
   ]
  },
  {
   "cell_type": "code",
   "execution_count": 136,
   "metadata": {
    "collapsed": false
   },
   "outputs": [
    {
     "data": {
      "image/png": "[encoded data removed]",
      "text/plain": [
       "<matplotlib.figure.Figure at 0x7fc22037b090>"
      ]
     },
     "metadata": {},
     "output_type": "display_data"
    },
    {
     "data": {
      "text/plain": [
       "(20, 50, 51)"
      ]
     },
     "execution_count": 136,
     "metadata": {},
     "output_type": "execute_result"
    }
   ],
   "source": [
    "plt.plot(dict_particles['5000'][0]['means'].var(axis=0).mean(axis=0))\n",
    "plt.plot(dict_particles_qmc['5000'][0]['means'].var(axis=0).mean(axis=0))\n",
    "plt.show()\n",
    "dict_particles['5000'][0]['means'].shape"
   ]
  },
  {
   "cell_type": "code",
   "execution_count": 8,
   "metadata": {
    "collapsed": false
   },
   "outputs": [
    {
     "data": {
      "image/png": "[encoded data removed]",
      "text/plain": [
       "<matplotlib.figure.Figure at 0x7fc27086f890>"
      ]
     },
     "metadata": {},
     "output_type": "display_data"
    },
    {
     "data": {
      "image/png": "[encoded data removed]",
      "text/plain": [
       "<matplotlib.figure.Figure at 0x7fc22836c9d0>"
      ]
     },
     "metadata": {},
     "output_type": "display_data"
    }
   ],
   "source": [
    "array_means[:,:,:].var(axis=0).sum(axis=0)\n",
    "array_norm_const_qmc.var(axis=0)\n",
    "plt.plot(array_norm_const.var(axis=0).flatten(), label=\"mc\") \n",
    "plt.plot(array_norm_const_qmc.var(axis=0).flatten(), label=\"qmc\")\n",
    "plt.yscale('log')\n",
    "plt.legend(); plt.show()\n",
    "\n",
    "array_means[:,:,:].var(axis=0).sum(axis=0)\n",
    "plt.plot((array_means[:,:,:]).var(axis=0).sum(axis=0).flatten(), label=\"mc\") \n",
    "plt.plot((array_means_qmc[:,:,:]).var(axis=0).sum(axis=0).flatten(), label=\"qmc\")\n",
    "plt.yscale('log')\n",
    "plt.legend(); plt.show()\n"
   ]
  },
  {
   "cell_type": "code",
   "execution_count": null,
   "metadata": {
    "collapsed": false
   },
   "outputs": [],
   "source": [
    "plt.boxplot([list_norm_const, list_norm_const_qmc]); plt.show()"
   ]
  }
 ],
 "metadata": {
  "kernelspec": {
   "display_name": "Python 2",
   "language": "python",
   "name": "python2"
  },
  "language_info": {
   "codemirror_mode": {
    "name": "ipython",
    "version": 2
   },
   "file_extension": ".py",
   "mimetype": "text/x-python",
   "name": "python",
   "nbconvert_exporter": "python",
   "pygments_lexer": "ipython2",
   "version": "2.7.12"
  }
 },
 "nbformat": 4,
 "nbformat_minor": 2
}
