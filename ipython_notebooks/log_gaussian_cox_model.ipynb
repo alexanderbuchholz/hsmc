{
 "cells": [
  {
   "cell_type": "markdown",
   "metadata": {},
   "source": [
    "## Log Gaussian Cox process\n",
    "This notebook implements the log gaussian cox process in dimension 64^2"
   ]
  },
  {
   "cell_type": "code",
   "execution_count": null,
   "metadata": {
    "collapsed": true
   },
   "outputs": [],
   "source": [
    "import numpy as np\n",
    "import numexpr as ne\n",
    "from numba import jit\n",
    "from matplotlib import pyplot as plt\n",
    "import sys\n",
    "sys.path.append(\"/home/alex/Dropbox/smc_hmc/python_smchmc/\")\n",
    "#sys.path.append(\"/home/alex/Dropbox/smc_hmc/python_smchmc/smc_sampler_functions\")"
   ]
  },
  {
   "cell_type": "markdown",
   "metadata": {},
   "source": [
    "Define the covariance functions"
   ]
  },
  {
   "cell_type": "code",
   "execution_count": null,
   "metadata": {
    "collapsed": false
   },
   "outputs": [],
   "source": [
    "dim = 400\n",
    "from smc_sampler_functions.target_distributions_logcox import f_dict_log_cox\n",
    "parameters_log_cox = f_dict_log_cox(int(dim**0.5))\n"
   ]
  },
  {
   "cell_type": "code",
   "execution_count": null,
   "metadata": {
    "collapsed": false
   },
   "outputs": [],
   "source": [
    "N_particles = 2**9\n",
    "T_time = 40\n",
    "move_steps_hmc = 0\n",
    "move_steps_rw_mala = 0\n",
    "ESStarget = 0.5\n",
    "M_num_repetions = 1\n",
    "epsilon = 1.\n",
    "epsilon_hmc = .1\n",
    "verbose = False\n",
    "parameters = {'dim' : dim, \n",
    "              'N_particles' : N_particles, \n",
    "              'T_time' : T_time,\n",
    "              'autotempering' : False,\n",
    "              'ESStarget': ESStarget,\n",
    "              'adaptive_covariance' : True\n",
    "             }\n",
    "from smc_sampler_functions.functions_smc_help import sequence_distributions\n",
    "from smc_sampler_functions.proposal_kernels import proposalmala, proposalrw, proposalhmc, proposalhmc_parallel\n",
    "from smc_sampler_functions.functions_smc_main import smc_sampler\n",
    "maladict = {'proposalkernel_tune': proposalmala,\n",
    "                      'proposalkernel_sample': proposalmala,\n",
    "                      'proposalname' : 'MALA',\n",
    "                      'target_probability' : 0.65,\n",
    "                      'covariance_matrix' : np.eye(dim), \n",
    "                      'L_steps' : 1,\n",
    "                      'epsilon' : np.array([epsilon]),\n",
    "                      'epsilon_max' : np.array([epsilon]),\n",
    "                      'tune_kernel': True,\n",
    "                      'sample_eps_L' : True,\n",
    "                      'verbose' : verbose,\n",
    "                      'move_steps': move_steps_rw_mala\n",
    "                      }\n",
    "hmcdict = {'proposalkernel_tune': proposalhmc,\n",
    "                      'proposalkernel_sample': proposalhmc_parallel,\n",
    "                      'proposalname' : 'HMC',\n",
    "                      'target_probability' : 0.9,\n",
    "                      'covariance_matrix' : np.eye(dim), \n",
    "                      'L_steps' : 20,\n",
    "                      'epsilon' : np.array([epsilon_hmc]),\n",
    "                      'epsilon_max' : np.array([epsilon_hmc]),\n",
    "                      'accept_reject' : True,\n",
    "                      'tune_kernel': True,\n",
    "                      'sample_eps_L' : True,\n",
    "                      'parallelize' : False,\n",
    "                      'verbose' : verbose,\n",
    "                      'move_steps': move_steps_hmc,\n",
    "                      'mean_L' : False\n",
    "                      }\n",
    "\n",
    "from smc_sampler_functions.functions_smc_main import repeat_sampling\n",
    "from smc_sampler_functions.target_distributions_logcox import priorlogdens_log_cox, priorgradlogdens_log_cox, priorsampler_log_cox\n",
    "from smc_sampler_functions.target_distributions_logcox import targetlogdens_log_cox, targetgradlogdens_log_cox\n",
    "\n",
    "\n",
    "parameters.update(parameters_log_cox)\n",
    "\n",
    "priordistribution = {'logdensity' : priorlogdens_log_cox, 'gradlogdensity' : priorgradlogdens_log_cox, 'priorsampler': priorsampler_log_cox}\n",
    "targetdistribution = {'logdensity' : targetlogdens_log_cox, 'gradlogdensity' : targetgradlogdens_log_cox, 'target_name': 'log_cox'}\n",
    "samplers_list_dict = [maladict, hmcdict]\n",
    "\n",
    "\n",
    "temperedist = sequence_distributions(parameters, priordistribution, targetdistribution)\n",
    "res_repeated_sampling, res_first_iteration = repeat_sampling(samplers_list_dict, temperedist,  parameters, M_num_repetions=1, save_res=False, save_name = '')\n",
    "\n",
    "\n",
    "\n",
    "\n"
   ]
  },
  {
   "cell_type": "code",
   "execution_count": null,
   "metadata": {
    "collapsed": false
   },
   "outputs": [],
   "source": [
    "from smc_sampler_functions.functions_smc_plotting import plot_repeated_simulations, plot_results_single_simulation\n",
    "plot_repeated_simulations(res_repeated_sampling)\n",
    "plot_results_single_simulation(res_first_iteration)\n"
   ]
  },
  {
   "cell_type": "code",
   "execution_count": null,
   "metadata": {
    "collapsed": false
   },
   "outputs": [],
   "source": [
    "x_res_matrix1 = res_first_iteration[0]['particles_resampled'].mean(axis=0).reshape(parameters_log_cox['N'],parameters_log_cox['N'])\n",
    "x_res_matrix2 = res_first_iteration[1]['particles_resampled'].mean(axis=0).reshape(parameters_log_cox['N'],parameters_log_cox['N'])\n",
    "\n",
    "Y_matrix = parameters_log_cox['Y'].reshape(parameters_log_cox['N'],parameters_log_cox['N'])\n",
    "X_matrix = parameters_log_cox['X_true'].reshape(parameters_log_cox['N'],parameters_log_cox['N'])\n",
    "\n",
    "plt.figure(figsize=(16,16))\n",
    "plt.subplot(141)\n",
    "plt.title('Latent process')\n",
    "im = plt.imshow(X_matrix,cmap='jet')\n",
    "plt.colorbar(im,fraction=0.046, pad=0.04)\n",
    "\n",
    "plt.subplot(142)\n",
    "plt.title('Recovered latent process mala')\n",
    "im = plt.imshow(x_res_matrix1,cmap='jet')\n",
    "plt.colorbar(im,fraction=0.046, pad=0.04)\n",
    "\n",
    "plt.subplot(143)\n",
    "plt.title('Recovered latent process hmc')\n",
    "im = plt.imshow(x_res_matrix2, cmap='jet')\n",
    "plt.colorbar(im,fraction=0.046, pad=0.04)\n",
    "\n",
    "\n",
    "plt.subplot(144)\n",
    "plt.title('Observed Data')\n",
    "im = plt.imshow(Y_matrix,cmap='jet')\n",
    "plt.colorbar(im,fraction=0.046, pad=0.04)\n",
    "plt.show()\n"
   ]
  }
 ],
 "metadata": {
  "kernelspec": {
   "display_name": "Python 2",
   "language": "python",
   "name": "python2"
  },
  "language_info": {
   "codemirror_mode": {
    "name": "ipython",
    "version": 2
   },
   "file_extension": ".py",
   "mimetype": "text/x-python",
   "name": "python",
   "nbconvert_exporter": "python",
   "pygments_lexer": "ipython2",
   "version": "2.7.12"
  }
 },
 "nbformat": 4,
 "nbformat_minor": 2
}
