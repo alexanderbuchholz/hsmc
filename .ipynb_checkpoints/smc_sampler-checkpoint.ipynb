{
 "cells": [
  {
   "cell_type": "markdown",
   "metadata": {},
   "source": [
    "## Notebook for the smc sampler\n",
    "We first define the target distribution and specify the parameters of the algorithm"
   ]
  },
  {
   "cell_type": "code",
   "execution_count": 1,
   "metadata": {
    "collapsed": false
   },
   "outputs": [
    {
     "name": "stderr",
     "output_type": "stream",
     "text": [
      "/usr/local/lib/python2.7/dist-packages/pandas/core/computation/__init__.py:18: UserWarning: The installed version of numexpr 2.4.3 is not supported in pandas and will be not be used\n",
      "The minimum supported version is 2.4.6\n",
      "\n",
      "  ver=ver, min_ver=_MIN_NUMEXPR_VERSION), UserWarning)\n"
     ]
    }
   ],
   "source": [
    "# Notebook for smc sampler \n",
    "from __future__ import print_function\n",
    "from __future__ import division\n",
    "\n",
    "import numpy as np\n",
    "import sys\n",
    "sys.path.append(\"/home/alex/python_programming/help_functions\")\n",
    "sys.path.append(\"/home/alex/Dropbox/smc_hmc/python_smchmc\")\n",
    "from smc_sampler_functions.functions_smc_help import sequence_distributions\n",
    "\n",
    "\n",
    "# define the parameters\n",
    "dim = 5\n",
    "N_particles = 2**10\n",
    "T_time = 50\n",
    "move_steps = 10\n",
    "ESStarget = 0.95\n",
    "#rs = np.random.seed(1)\n",
    "targetmean = np.ones(dim)*8\n",
    "targetvariance = np.eye(dim)*0.1\n",
    "targetvariance_inv = np.linalg.inv(targetvariance)\n",
    "l_targetvariance_inv = np.linalg.cholesky(targetvariance_inv)\n",
    "parameters = {'dim' : dim, \n",
    "              'N_particles' : N_particles, \n",
    "              'targetmean': targetmean, \n",
    "              'targetvariance':targetvariance,\n",
    "              'targetvariance_inv':targetvariance_inv,\n",
    "              'l_targetvariance_inv':l_targetvariance_inv,\n",
    "              'df' : 5,\n",
    "              'T_time' : T_time,\n",
    "              'autotempering' : True,\n",
    "              'move_steps': move_steps,\n",
    "              'ESStarget': ESStarget,\n",
    "              'adaptive_covariance' : True\n",
    "             }\n",
    "\n",
    "\n",
    "# define the target distributions\n",
    "from smc_sampler_functions.target_distributions import priorlogdens, priorgradlogdens\n",
    "from smc_sampler_functions.target_distributions import targetlogdens_normal, targetgradlogdens_normal\n",
    "from smc_sampler_functions.target_distributions import targetlogdens_student, targetgradlogdens_student\n",
    "\n",
    "priordistribution = {'logdensity' : priorlogdens, 'gradlogdensity' : priorgradlogdens}\n",
    "#targetdistribution = {'logdensity' : targetlogdens_normal, 'gradlogdensity' : targetgradlogdens_normal}\n",
    "targetdistribution = {'logdensity' : targetlogdens_student, 'gradlogdensity' : targetgradlogdens_student}\n",
    "\n",
    "temperedist = sequence_distributions(parameters, priordistribution, targetdistribution)\n",
    "\n",
    "# prepare the kernels and specify parameters\n",
    "from smc_sampler_functions.proposal_kernels import proposalmala, proposalrw, proposalhmc\n",
    "from smc_sampler_functions.functions_smc_main import smc_sampler\n",
    "\n",
    "maladict = {'proposalkernel': proposalmala,\n",
    "                      'proposalname' : 'MALA',\n",
    "                      'target_probability' : 0.65,\n",
    "                      'covariance_matrix' : np.eye(dim), \n",
    "                      'epsilon' : 1.,\n",
    "                      'epsilon_max' : 1.,\n",
    "                      'tune_kernel': True,\n",
    "                      'sample_eps_L' : True\n",
    "                      }\n",
    "rwdict = {            'proposalkernel': proposalrw,\n",
    "                      'proposalname' : 'RW',\n",
    "                      'target_probability' : 0.3,\n",
    "                      'covariance_matrix' : np.eye(dim), \n",
    "                      'epsilon' : 1.,\n",
    "                      'epsilon_max' : 1.,\n",
    "                      'tune_kernel': True,\n",
    "                      'sample_eps_L' : True\n",
    "                      }\n",
    "\n",
    "hmcdict = {'proposalkernel': proposalhmc,\n",
    "                      'proposalname' : 'HMC',\n",
    "                      'target_probability' : 0.9,\n",
    "                      'covariance_matrix' : np.eye(dim), \n",
    "                      'L_steps' : 50,\n",
    "                      'epsilon' : 1.,\n",
    "                      'epsilon_max' : 1.,\n",
    "                      'accept_reject' : True,\n",
    "                      'tune_kernel': True,\n",
    "                      'sample_eps_L' : True\n",
    "                      }\n"
   ]
  },
  {
   "cell_type": "markdown",
   "metadata": {},
   "source": [
    "### First comparison of the results"
   ]
  },
  {
   "cell_type": "code",
   "execution_count": null,
   "metadata": {
    "collapsed": false
   },
   "outputs": [],
   "source": [
    "# sample and compare the results\n",
    "res_dict_hmc = smc_sampler(temperedist,  parameters, hmcdict)\n",
    "res_dict_mala = smc_sampler(temperedist,  parameters, maladict)\n",
    "res_dict_rw = smc_sampler(temperedist,  parameters, rwdict)\n",
    "from smc_sampler_functions.functions_smc_plotting import plot_results_single_simulation\n",
    "plot_results_single_simulation([res_dict_hmc, res_dict_mala, res_dict_rw])\n"
   ]
  },
  {
   "cell_type": "code",
   "execution_count": null,
   "metadata": {
    "collapsed": true
   },
   "outputs": [],
   "source": [
    "plot_results_single_simulation([res_dict_hmc, res_dict_mala, res_dict_rw])"
   ]
  },
  {
   "cell_type": "markdown",
   "metadata": {
    "collapsed": false
   },
   "source": [
    "### Repeated samling in order to compare the performance"
   ]
  },
  {
   "cell_type": "code",
   "execution_count": null,
   "metadata": {
    "collapsed": false,
    "scrolled": true
   },
   "outputs": [],
   "source": [
    "from functions_smc_main import repeat_sampling\n",
    "samplers_list_dict = [hmcdict, maladict, rwdict]\n",
    "res_repeated_sampling, first_iteration_results = repeat_sampling(samplers_list_dict, temperedist,  parameters, M_num_repetions=50)"
   ]
  },
  {
   "cell_type": "markdown",
   "metadata": {},
   "source": [
    "### Plot the results"
   ]
  },
  {
   "cell_type": "code",
   "execution_count": null,
   "metadata": {
    "collapsed": false
   },
   "outputs": [],
   "source": [
    "from functions_smc_plotting import plot_repeated_simulations\n",
    "plot_repeated_simulations(res_repeated_sampling)"
   ]
  }
 ],
 "metadata": {
  "kernelspec": {
   "display_name": "Python 2",
   "language": "python",
   "name": "python2"
  },
  "language_info": {
   "codemirror_mode": {
    "name": "ipython",
    "version": 2
   },
   "file_extension": ".py",
   "mimetype": "text/x-python",
   "name": "python",
   "nbconvert_exporter": "python",
   "pygments_lexer": "ipython2",
   "version": "2.7.12"
  }
 },
 "nbformat": 4,
 "nbformat_minor": 2
}
